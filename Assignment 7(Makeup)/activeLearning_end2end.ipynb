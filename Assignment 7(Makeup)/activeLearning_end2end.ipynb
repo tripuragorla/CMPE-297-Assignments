{
  "cells": [
    {
      "cell_type": "markdown",
      "metadata": {
        "id": "view-in-github",
        "colab_type": "text"
      },
      "source": [
        "<a href=\"https://colab.research.google.com/github/tripuragorla/CMPE-297-Assignments/blob/main/Assignment%207(Makeup)/activeLearning_end2end.ipynb\" target=\"_parent\"><img src=\"https://colab.research.google.com/assets/colab-badge.svg\" alt=\"Open In Colab\"/></a>"
      ]
    },
    {
      "cell_type": "markdown",
      "metadata": {
        "id": "6TGx3-lk5yxC"
      },
      "source": [
        "# Use Active Learning to Link FEBRL People Data"
      ]
    },
    {
      "cell_type": "markdown",
      "metadata": {
        "id": "F87SDL2m5yxI"
      },
      "source": [
        "<a href=\"https://colab.research.google.com/github/rachhouse/intro-to-data-linking/blob/main/tutorial_notebooks/03_Link_FEBRL_Data_with_Active_Learning.ipynb\" target=\"_parent\"><img src=\"https://colab.research.google.com/assets/colab-badge.svg\" alt=\"Open In Colab\"></a>"
      ]
    },
    {
      "cell_type": "markdown",
      "metadata": {
        "id": "7Hh0eR-F5yxJ"
      },
      "source": [
        "In this tutorial, we'll use the [dedupe library](https://github.com/dedupeio/dedupe) to experiment with an active learning approach to linking our FEBRL people datasets.\n",
        "\n",
        "Once again, we'll use the same training dataset and evaluation functions as the SimSum classification tutorial; these have been included in a separate `.py` file for re-use and convenience, so we can focus on code unique to this tutorial."
      ]
    },
    {
      "cell_type": "markdown",
      "metadata": {
        "id": "7ia0Pk_45yxK"
      },
      "source": [
        "## Google Colab Setup"
      ]
    },
    {
      "cell_type": "code",
      "execution_count": 4,
      "metadata": {
        "id": "-ohM1MDJ5yxL"
      },
      "outputs": [],
      "source": [
        "# Check if we're running locally, or in Google Colab.\n",
        "try:\n",
        "    import google.colab\n",
        "    COLAB = True\n",
        "except ModuleNotFoundError:\n",
        "    COLAB = False\n",
        "    \n",
        "# If we're running in Colab, download the tutorial functions file \n",
        "# to the Colab session local directory, and install required libraries.\n",
        "if COLAB:\n",
        "    import requests\n",
        "    \n",
        "    tutorial_functions_url = \"https://raw.githubusercontent.com/rachhouse/intro-to-data-linking/main/tutorial_notebooks/linking_tutorial_functions.py\"\n",
        "    r = requests.get(tutorial_functions_url)\n",
        "    \n",
        "    with open(\"linking_tutorial_functions.py\", \"w\") as fh:\n",
        "        fh.write(r.text)\n",
        "    \n",
        "    !pip install -q altair dedupe dedupe-variable-name jellyfish recordlinkage "
      ]
    },
    {
      "cell_type": "code",
      "source": [
        "pip install -U numpy "
      ],
      "metadata": {
        "colab": {
          "base_uri": "https://localhost:8080/",
          "height": 346
        },
        "id": "VZsSCTtQ-yGj",
        "outputId": "5ff929c9-3d22-477a-c509-c0811e8ada18"
      },
      "execution_count": 3,
      "outputs": [
        {
          "output_type": "stream",
          "name": "stdout",
          "text": [
            "Requirement already satisfied: numpy in /usr/local/lib/python3.7/dist-packages (1.19.5)\n",
            "Collecting numpy\n",
            "  Downloading numpy-1.21.4-cp37-cp37m-manylinux_2_12_x86_64.manylinux2010_x86_64.whl (15.7 MB)\n",
            "\u001b[K     |████████████████████████████████| 15.7 MB 5.5 MB/s \n",
            "\u001b[?25hInstalling collected packages: numpy\n",
            "  Attempting uninstall: numpy\n",
            "    Found existing installation: numpy 1.19.5\n",
            "    Uninstalling numpy-1.19.5:\n",
            "      Successfully uninstalled numpy-1.19.5\n",
            "\u001b[31mERROR: pip's dependency resolver does not currently take into account all the packages that are installed. This behaviour is the source of the following dependency conflicts.\n",
            "yellowbrick 1.3.post1 requires numpy<1.20,>=1.16.0, but you have numpy 1.21.4 which is incompatible.\n",
            "datascience 0.10.6 requires folium==0.2.1, but you have folium 0.8.3 which is incompatible.\n",
            "albumentations 0.1.12 requires imgaug<0.2.7,>=0.2.5, but you have imgaug 0.2.9 which is incompatible.\u001b[0m\n",
            "Successfully installed numpy-1.21.4\n"
          ]
        },
        {
          "output_type": "display_data",
          "data": {
            "application/vnd.colab-display-data+json": {
              "pip_warning": {
                "packages": [
                  "numpy"
                ]
              }
            }
          },
          "metadata": {}
        }
      ]
    },
    {
      "cell_type": "code",
      "execution_count": 1,
      "metadata": {
        "id": "juKvZ9L75yxN",
        "colab": {
          "base_uri": "https://localhost:8080/"
        },
        "outputId": "dc2b5675-a060-47a4-c9d9-2e9ddef79f97"
      },
      "outputs": [
        {
          "output_type": "stream",
          "name": "stderr",
          "text": [
            "INFO:root:Generating grammar tables from /usr/lib/python3.7/lib2to3/Grammar.txt\n",
            "INFO:root:Generating grammar tables from /usr/lib/python3.7/lib2to3/PatternGrammar.txt\n"
          ]
        }
      ],
      "source": [
        "import datetime\n",
        "import itertools\n",
        "import os\n",
        "import pathlib\n",
        "import re\n",
        "from typing import Any, Dict, Optional\n",
        "\n",
        "import dedupe\n",
        "import pandas as pd\n",
        "\n",
        "import linking_tutorial_functions as tutorial"
      ]
    },
    {
      "cell_type": "markdown",
      "metadata": {
        "id": "eGZ1qdr_5yxP"
      },
      "source": [
        "## Define Working Filepaths"
      ]
    },
    {
      "cell_type": "markdown",
      "metadata": {
        "id": "VTzXRRBO5yxR"
      },
      "source": [
        "For convenience, we'll define a `pathlib.Path` to reference our current working directory."
      ]
    },
    {
      "cell_type": "code",
      "execution_count": 2,
      "metadata": {
        "id": "QeVUQxfI5yxS",
        "colab": {
          "base_uri": "https://localhost:8080/"
        },
        "outputId": "94d17a66-a9eb-4357-9eff-7f8704d62d6b"
      },
      "outputs": [
        {
          "output_type": "execute_result",
          "data": {
            "text/plain": [
              "PosixPath('/content')"
            ]
          },
          "metadata": {},
          "execution_count": 2
        }
      ],
      "source": [
        "WORKING_DIR = pathlib.Path(os.path.abspath(''))\n",
        "WORKING_DIR"
      ]
    },
    {
      "cell_type": "markdown",
      "metadata": {
        "id": "h18f59vm5yxT"
      },
      "source": [
        "## Load Training Dataset and Ground Truth Labels"
      ]
    },
    {
      "cell_type": "code",
      "execution_count": 5,
      "metadata": {
        "id": "7_KkFUaj5yxU"
      },
      "outputs": [],
      "source": [
        "df_A, df_B, df_ground_truth = tutorial.load_febrl_training_data(COLAB)"
      ]
    },
    {
      "cell_type": "markdown",
      "metadata": {
        "id": "o6ffSPhQ5yxV"
      },
      "source": [
        "Let's take a quick look at our training dataset to refresh on the columns, formats, and data."
      ]
    },
    {
      "cell_type": "code",
      "execution_count": 6,
      "metadata": {
        "id": "qDt2coRt5yxV",
        "colab": {
          "base_uri": "https://localhost:8080/",
          "height": 238
        },
        "outputId": "3c642b9e-24c4-4c4d-b85a-3619999ccd17"
      },
      "outputs": [
        {
          "output_type": "execute_result",
          "data": {
            "text/html": [
              "<div>\n",
              "<style scoped>\n",
              "    .dataframe tbody tr th:only-of-type {\n",
              "        vertical-align: middle;\n",
              "    }\n",
              "\n",
              "    .dataframe tbody tr th {\n",
              "        vertical-align: top;\n",
              "    }\n",
              "\n",
              "    .dataframe thead th {\n",
              "        text-align: right;\n",
              "    }\n",
              "</style>\n",
              "<table border=\"1\" class=\"dataframe\">\n",
              "  <thead>\n",
              "    <tr style=\"text-align: right;\">\n",
              "      <th></th>\n",
              "      <th>first_name</th>\n",
              "      <th>surname</th>\n",
              "      <th>street_number</th>\n",
              "      <th>address_1</th>\n",
              "      <th>address_2</th>\n",
              "      <th>suburb</th>\n",
              "      <th>postcode</th>\n",
              "      <th>state</th>\n",
              "      <th>date_of_birth</th>\n",
              "      <th>age</th>\n",
              "      <th>phone_number</th>\n",
              "      <th>soc_sec_id</th>\n",
              "    </tr>\n",
              "    <tr>\n",
              "      <th>person_id_A</th>\n",
              "      <th></th>\n",
              "      <th></th>\n",
              "      <th></th>\n",
              "      <th></th>\n",
              "      <th></th>\n",
              "      <th></th>\n",
              "      <th></th>\n",
              "      <th></th>\n",
              "      <th></th>\n",
              "      <th></th>\n",
              "      <th></th>\n",
              "      <th></th>\n",
              "    </tr>\n",
              "  </thead>\n",
              "  <tbody>\n",
              "    <tr>\n",
              "      <th>fbc4143d-15f9-4f27-b5f0-dedbadce6616</th>\n",
              "      <td>matilda</td>\n",
              "      <td>struck</td>\n",
              "      <td>8</td>\n",
              "      <td>ballard place</td>\n",
              "      <td></td>\n",
              "      <td>west perth</td>\n",
              "      <td>2470</td>\n",
              "      <td>qld</td>\n",
              "      <td>19611002</td>\n",
              "      <td>32</td>\n",
              "      <td>03 05903135</td>\n",
              "      <td>8276847</td>\n",
              "    </tr>\n",
              "    <tr>\n",
              "      <th>48a56cad-7ba6-45e1-97cd-517ba65bdab5</th>\n",
              "      <td>lachlan</td>\n",
              "      <td>eglinton</td>\n",
              "      <td>36</td>\n",
              "      <td>kambalda crescent</td>\n",
              "      <td>villa 427</td>\n",
              "      <td>auburn</td>\n",
              "      <td>5109</td>\n",
              "      <td></td>\n",
              "      <td>19260108</td>\n",
              "      <td>27</td>\n",
              "      <td></td>\n",
              "      <td>9937958</td>\n",
              "    </tr>\n",
              "    <tr>\n",
              "      <th>b1792d21-e4be-4b86-8dea-454ffa5194c5</th>\n",
              "      <td>mikayla</td>\n",
              "      <td>asher</td>\n",
              "      <td>588</td>\n",
              "      <td>britten-jones drive</td>\n",
              "      <td></td>\n",
              "      <td>miami</td>\n",
              "      <td>4218</td>\n",
              "      <td>nsw</td>\n",
              "      <td>19251102</td>\n",
              "      <td>32</td>\n",
              "      <td>03 33770501</td>\n",
              "      <td>7017310</td>\n",
              "    </tr>\n",
              "    <tr>\n",
              "      <th>96653d73-bebc-4459-94f3-c3f0a8c514d4</th>\n",
              "      <td>grace</td>\n",
              "      <td>bristow</td>\n",
              "      <td>7</td>\n",
              "      <td></td>\n",
              "      <td>wandella park snowy</td>\n",
              "      <td>cardiff</td>\n",
              "      <td>6163</td>\n",
              "      <td>nsw</td>\n",
              "      <td>19400120</td>\n",
              "      <td></td>\n",
              "      <td>07 37864073</td>\n",
              "      <td>3535974</td>\n",
              "    </tr>\n",
              "    <tr>\n",
              "      <th>41f038b8-77c0-45a5-9e1f-e62b8637ffd1</th>\n",
              "      <td>wilson</td>\n",
              "      <td>bishop</td>\n",
              "      <td>11</td>\n",
              "      <td>chisholm street</td>\n",
              "      <td></td>\n",
              "      <td>bronte</td>\n",
              "      <td>2490</td>\n",
              "      <td>nsw</td>\n",
              "      <td>19210305</td>\n",
              "      <td>27</td>\n",
              "      <td>04 15209769</td>\n",
              "      <td>5573522</td>\n",
              "    </tr>\n",
              "  </tbody>\n",
              "</table>\n",
              "</div>"
            ],
            "text/plain": [
              "                                     first_name  ... soc_sec_id\n",
              "person_id_A                                      ...           \n",
              "fbc4143d-15f9-4f27-b5f0-dedbadce6616    matilda  ...    8276847\n",
              "48a56cad-7ba6-45e1-97cd-517ba65bdab5    lachlan  ...    9937958\n",
              "b1792d21-e4be-4b86-8dea-454ffa5194c5    mikayla  ...    7017310\n",
              "96653d73-bebc-4459-94f3-c3f0a8c514d4      grace  ...    3535974\n",
              "41f038b8-77c0-45a5-9e1f-e62b8637ffd1     wilson  ...    5573522\n",
              "\n",
              "[5 rows x 12 columns]"
            ]
          },
          "metadata": {},
          "execution_count": 6
        }
      ],
      "source": [
        "df_A.head()"
      ]
    },
    {
      "cell_type": "markdown",
      "metadata": {
        "id": "l_MxJAmF5yxW"
      },
      "source": [
        "## Data Augmentation"
      ]
    },
    {
      "cell_type": "markdown",
      "metadata": {
        "id": "OPXfzibl5yxW"
      },
      "source": [
        "We'll do minimal data augmentation before feeding our training data to `dedupe`; we just want to format the date of birth data as `mm/dd/yy`, and ensure all columns are in string format and stripped of trailing/leading whitespace. Additionally, `dedupe` requires input data to be in dictionaries, using the record id as the key and the record metadata as the value. So, we'll convert our dataframes to this format."
      ]
    },
    {
      "cell_type": "code",
      "execution_count": 7,
      "metadata": {
        "id": "_ELbxu1c5yxX"
      },
      "outputs": [],
      "source": [
        "def format_dob(dob: str) -> Optional[str]:\n",
        "    \"\"\" Transform date of birth format from YYYYMMDD to mm/dd/yy.\n",
        "        If DOB cannot be transformed, return None.\n",
        "    \"\"\"\n",
        "    try:\n",
        "        if re.match(r\"\\d{8}\", dob):\n",
        "            return (datetime.datetime.strptime(dob, \"%Y%m%d\")).strftime(\"%m/%d/%y\")\n",
        "    except:\n",
        "        pass\n",
        "\n",
        "    return None\n",
        "\n",
        "def strip_and_null(x: Any) -> Optional[str]:\n",
        "    \"\"\" Stringify incoming variable, remove trailing/leading whitespace\n",
        "        and return resulting string. Return None if resulting string is empty.\n",
        "    \"\"\"\n",
        "    x = str(x).strip()\n",
        "    \n",
        "    if x == \"\":\n",
        "        return None\n",
        "    else:\n",
        "        return x\n",
        "    \n",
        "def convert_df_to_dict(df: pd.DataFrame) -> Dict[str, Dict]:\n",
        "    \"\"\" Convert pandas DataFrame to dict keyed by record id.\n",
        "        Convert all fields to strings or Nones to satisfy dedupe.\n",
        "        Transform date format of date_of_birth field.\n",
        "    \"\"\"    \n",
        "\n",
        "    for col in df.columns:\n",
        "        df[col] = df[col].apply(lambda x: strip_and_null(x))\n",
        "\n",
        "    df[\"date_of_birth\"] = df[\"date_of_birth\"].apply(lambda x: format_dob(x))    \n",
        "\n",
        "    return df.to_dict(\"index\")"
      ]
    },
    {
      "cell_type": "code",
      "execution_count": 8,
      "metadata": {
        "id": "zMonUd8E5yxY"
      },
      "outputs": [],
      "source": [
        "records_A = convert_df_to_dict(df_A)\n",
        "records_B = convert_df_to_dict(df_B)"
      ]
    },
    {
      "cell_type": "markdown",
      "metadata": {
        "id": "fvy-R21P5yxZ"
      },
      "source": [
        "We can examine a small sample of the resulting transformed records:"
      ]
    },
    {
      "cell_type": "code",
      "execution_count": 9,
      "metadata": {
        "id": "fJ0yC0zV5yxa",
        "colab": {
          "base_uri": "https://localhost:8080/"
        },
        "outputId": "c68382a4-96ad-4843-c487-cf45cd2694ed"
      },
      "outputs": [
        {
          "output_type": "execute_result",
          "data": {
            "text/plain": [
              "[{'address_1': 'ballard place',\n",
              "  'address_2': None,\n",
              "  'age': '32',\n",
              "  'date_of_birth': '10/02/61',\n",
              "  'first_name': 'matilda',\n",
              "  'phone_number': '03 05903135',\n",
              "  'postcode': '2470',\n",
              "  'soc_sec_id': '8276847',\n",
              "  'state': 'qld',\n",
              "  'street_number': '8',\n",
              "  'suburb': 'west perth',\n",
              "  'surname': 'struck'},\n",
              " {'address_1': 'kambalda crescent',\n",
              "  'address_2': 'villa 427',\n",
              "  'age': '27',\n",
              "  'date_of_birth': '01/08/26',\n",
              "  'first_name': 'lachlan',\n",
              "  'phone_number': None,\n",
              "  'postcode': '5109',\n",
              "  'soc_sec_id': '9937958',\n",
              "  'state': None,\n",
              "  'street_number': '36',\n",
              "  'suburb': 'auburn',\n",
              "  'surname': 'eglinton'}]"
            ]
          },
          "metadata": {},
          "execution_count": 9
        }
      ],
      "source": [
        "[records_A[k] for k in list(records_A.keys())[0:2]]"
      ]
    },
    {
      "cell_type": "markdown",
      "metadata": {
        "id": "c481vfov5yxb"
      },
      "source": [
        "## Prepare Training"
      ]
    },
    {
      "cell_type": "markdown",
      "metadata": {
        "id": "sa1c-CFi5yxb"
      },
      "source": [
        "When we linked our data via SimSum and supervised learning, we defined our blockers and comparators manually with `recordlinkage`. The `dedupe` library takes an active learning approach to blocking and classification and will use our feedback gathered during the labeling session to learn blocking rules and train a classifier. \n",
        "\n",
        "To prepare our `dedupe.RecordLink` object for training, first we'll define the fields that we think `dedupe` should pay attention to when matching records - these definitions will serve as the comparators. The `field` contains the name of the attribute to use for comparison, and the `type` defines the comparison type."
      ]
    },
    {
      "cell_type": "code",
      "execution_count": 10,
      "metadata": {
        "id": "NnNhy6VP5yxc",
        "colab": {
          "base_uri": "https://localhost:8080/"
        },
        "outputId": "8d41f67a-cc46-49e1-9aeb-613385615784"
      },
      "outputs": [
        {
          "output_type": "stream",
          "name": "stderr",
          "text": [
            "INFO:dedupe.canopy_index:Removing stop word re\n",
            "INFO:dedupe.training:Final predicate set:\n",
            "INFO:dedupe.training:SimplePredicate: (commonThreeTokens, address_2)\n"
          ]
        },
        {
          "output_type": "stream",
          "name": "stdout",
          "text": [
            "CPU times: user 49.7 s, sys: 777 ms, total: 50.5 s\n",
            "Wall time: 50 s\n"
          ]
        }
      ],
      "source": [
        "%%time\n",
        "\n",
        "fields = [\n",
        "    { \"field\" : \"first_name\", \"type\" : \"Name\" },\n",
        "    { \"field\" : \"surname\", \"type\" : \"Name\" },\n",
        "    { \"field\" : \"address_1\", \"type\" : \"ShortString\" },\n",
        "    { \"field\" : \"address_2\", \"type\" : \"ShortString\" },\n",
        "    { \"field\" : \"suburb\", \"type\" : \"ShortString\" },\n",
        "    { \"field\" : \"postcode\", \"type\" : \"Exact\" },\n",
        "    { \"field\" : \"state\", \"type\" : \"Exact\" },\n",
        "    { \"field\" : \"date_of_birth\", \"type\" : \"DateTime\" },\n",
        "    { \"field\" : \"soc_sec_id\", \"type\" : \"Exact\" },\n",
        "]\n",
        "\n",
        "linker = dedupe.RecordLink(fields)\n",
        "linker.prepare_training(records_A, records_B)"
      ]
    },
    {
      "cell_type": "markdown",
      "metadata": {
        "id": "eLYafv7T5yxc"
      },
      "source": [
        "## Active Learning Labeling Session!"
      ]
    },
    {
      "cell_type": "markdown",
      "metadata": {
        "id": "gML4bAyA5yxd"
      },
      "source": [
        "At this point, we're ready to provide feedback to `dedupe` via an active learning labeling session. For this, `dedupe` supplies a convenience method to iterate through pairs it is uncertain about. As you provide feedback for each pair, dedupe learns blocking rules and recalculates its linking model weights.\n",
        "\n",
        "You can use `y` (yes, match), `n` (no, not match), and `u` (unsure) to provide feedback on candidate links. When you're ready to exit the labeling session, use `f`."
      ]
    },
    {
      "cell_type": "code",
      "execution_count": 11,
      "metadata": {
        "id": "Z-IqW0nV5yxd",
        "colab": {
          "base_uri": "https://localhost:8080/"
        },
        "outputId": "f2273b8c-a07e-4dea-9f00-e1144616e687"
      },
      "outputs": [
        {
          "output_type": "stream",
          "name": "stderr",
          "text": [
            "first_name : kiandra\n",
            "surname : dunstone\n",
            "address_1 : None\n",
            "address_2 : None\n",
            "suburb : oaklands park\n",
            "postcode : 6163\n",
            "state : wa\n",
            "date_of_birth : 10/29/11\n",
            "soc_sec_id : 5277244\n",
            "\n",
            "first_name : kiandra\n",
            "surname : dunstone\n",
            "address_1 : None\n",
            "address_2 : None\n",
            "suburb : oaklands park\n",
            "postcode : 6163\n",
            "state : wa\n",
            "date_of_birth : None\n",
            "soc_sec_id : 5277244\n",
            "\n",
            "0/10 positive, 0/10 negative\n",
            "Do these records refer to the same thing?\n",
            "(y)es / (n)o / (u)nsure / (f)inished\n"
          ]
        },
        {
          "name": "stdout",
          "output_type": "stream",
          "text": [
            "y\n"
          ]
        },
        {
          "output_type": "stream",
          "name": "stderr",
          "text": [
            "first_name : isabella\n",
            "surname : brain\n",
            "address_1 : key street\n",
            "address_2 : None\n",
            "suburb : condon\n",
            "postcode : 2323\n",
            "state : wa\n",
            "date_of_birth : 02/09/92\n",
            "soc_sec_id : 2590964\n",
            "\n",
            "first_name : isabellw\n",
            "surname : brain\n",
            "address_1 : None\n",
            "address_2 : None\n",
            "suburb : condon\n",
            "postcode : 2323\n",
            "state : wa\n",
            "date_of_birth : 02/09/92\n",
            "soc_sec_id : 2590964\n",
            "\n",
            "1/10 positive, 0/10 negative\n",
            "Do these records refer to the same thing?\n",
            "(y)es / (n)o / (u)nsure / (f)inished / (p)revious\n"
          ]
        },
        {
          "name": "stdout",
          "output_type": "stream",
          "text": [
            "y\n"
          ]
        },
        {
          "output_type": "stream",
          "name": "stderr",
          "text": [
            "INFO:dedupe.training:Final predicate set:\n",
            "INFO:dedupe.training:SimplePredicate: (wholeFieldPredicate, soc_sec_id)\n",
            "first_name : fyynlay\n",
            "surname : wangel\n",
            "address_1 : None\n",
            "address_2 : None\n",
            "suburb : rosebud\n",
            "postcode : 4500\n",
            "state : qld\n",
            "date_of_birth : 05/16/58\n",
            "soc_sec_id : 5725414\n",
            "\n",
            "first_name : sofia\n",
            "surname : webc\n",
            "address_1 : archelplace\n",
            "address_2 : None\n",
            "suburb : rosebud\n",
            "postcode : 2211\n",
            "state : nsv\n",
            "date_of_birth : None\n",
            "soc_sec_id : 3201434\n",
            "\n",
            "2/10 positive, 0/10 negative\n",
            "Do these records refer to the same thing?\n",
            "(y)es / (n)o / (u)nsure / (f)inished / (p)revious\n"
          ]
        },
        {
          "name": "stdout",
          "output_type": "stream",
          "text": [
            "yes\n"
          ]
        },
        {
          "output_type": "stream",
          "name": "stderr",
          "text": [
            "(y)es / (n)o / (u)nsure / (f)inished / (p)revious\n"
          ]
        },
        {
          "name": "stdout",
          "output_type": "stream",
          "text": [
            "yes\n"
          ]
        },
        {
          "output_type": "stream",
          "name": "stderr",
          "text": [
            "(y)es / (n)o / (u)nsure / (f)inished / (p)revious\n"
          ]
        },
        {
          "name": "stdout",
          "output_type": "stream",
          "text": [
            "yes\n"
          ]
        },
        {
          "output_type": "stream",
          "name": "stderr",
          "text": [
            "(y)es / (n)o / (u)nsure / (f)inished / (p)revious\n"
          ]
        },
        {
          "name": "stdout",
          "output_type": "stream",
          "text": [
            "no\n"
          ]
        },
        {
          "output_type": "stream",
          "name": "stderr",
          "text": [
            "(y)es / (n)o / (u)nsure / (f)inished / (p)revious\n"
          ]
        },
        {
          "name": "stdout",
          "output_type": "stream",
          "text": [
            "unsure\n"
          ]
        },
        {
          "output_type": "stream",
          "name": "stderr",
          "text": [
            "(y)es / (n)o / (u)nsure / (f)inished / (p)revious\n"
          ]
        },
        {
          "name": "stdout",
          "output_type": "stream",
          "text": [
            "yes\n"
          ]
        },
        {
          "output_type": "stream",
          "name": "stderr",
          "text": [
            "(y)es / (n)o / (u)nsure / (f)inished / (p)revious\n"
          ]
        },
        {
          "name": "stdout",
          "output_type": "stream",
          "text": [
            "previous\n"
          ]
        },
        {
          "output_type": "stream",
          "name": "stderr",
          "text": [
            "(y)es / (n)o / (u)nsure / (f)inished / (p)revious\n"
          ]
        },
        {
          "name": "stdout",
          "output_type": "stream",
          "text": [
            "finished\n"
          ]
        },
        {
          "output_type": "stream",
          "name": "stderr",
          "text": [
            "(y)es / (n)o / (u)nsure / (f)inished / (p)revious\n"
          ]
        },
        {
          "name": "stdout",
          "output_type": "stream",
          "text": [
            "yes\n"
          ]
        },
        {
          "output_type": "stream",
          "name": "stderr",
          "text": [
            "(y)es / (n)o / (u)nsure / (f)inished / (p)revious\n"
          ]
        },
        {
          "name": "stdout",
          "output_type": "stream",
          "text": [
            "no\n"
          ]
        },
        {
          "output_type": "stream",
          "name": "stderr",
          "text": [
            "(y)es / (n)o / (u)nsure / (f)inished / (p)revious\n"
          ]
        },
        {
          "name": "stdout",
          "output_type": "stream",
          "text": [
            "unsure\n"
          ]
        },
        {
          "output_type": "stream",
          "name": "stderr",
          "text": [
            "(y)es / (n)o / (u)nsure / (f)inished / (p)revious\n"
          ]
        },
        {
          "name": "stdout",
          "output_type": "stream",
          "text": [
            "previous\n"
          ]
        },
        {
          "output_type": "stream",
          "name": "stderr",
          "text": [
            "(y)es / (n)o / (u)nsure / (f)inished / (p)revious\n"
          ]
        },
        {
          "name": "stdout",
          "output_type": "stream",
          "text": [
            "finished\n"
          ]
        },
        {
          "output_type": "stream",
          "name": "stderr",
          "text": [
            "(y)es / (n)o / (u)nsure / (f)inished / (p)revious\n"
          ]
        },
        {
          "name": "stdout",
          "output_type": "stream",
          "text": [
            "yes\n"
          ]
        },
        {
          "output_type": "stream",
          "name": "stderr",
          "text": [
            "(y)es / (n)o / (u)nsure / (f)inished / (p)revious\n"
          ]
        },
        {
          "name": "stdout",
          "output_type": "stream",
          "text": [
            "no\n"
          ]
        },
        {
          "output_type": "stream",
          "name": "stderr",
          "text": [
            "(y)es / (n)o / (u)nsure / (f)inished / (p)revious\n"
          ]
        },
        {
          "name": "stdout",
          "output_type": "stream",
          "text": [
            "no\n"
          ]
        },
        {
          "output_type": "stream",
          "name": "stderr",
          "text": [
            "(y)es / (n)o / (u)nsure / (f)inished / (p)revious\n"
          ]
        },
        {
          "name": "stdout",
          "output_type": "stream",
          "text": [
            "yes\n"
          ]
        },
        {
          "output_type": "stream",
          "name": "stderr",
          "text": [
            "(y)es / (n)o / (u)nsure / (f)inished / (p)revious\n"
          ]
        },
        {
          "name": "stdout",
          "output_type": "stream",
          "text": [
            "previous\n"
          ]
        },
        {
          "output_type": "stream",
          "name": "stderr",
          "text": [
            "(y)es / (n)o / (u)nsure / (f)inished / (p)revious\n"
          ]
        },
        {
          "name": "stdout",
          "output_type": "stream",
          "text": [
            "finished\n"
          ]
        },
        {
          "output_type": "stream",
          "name": "stderr",
          "text": [
            "(y)es / (n)o / (u)nsure / (f)inished / (p)revious\n"
          ]
        },
        {
          "name": "stdout",
          "output_type": "stream",
          "text": [
            "no\n"
          ]
        },
        {
          "output_type": "stream",
          "name": "stderr",
          "text": [
            "(y)es / (n)o / (u)nsure / (f)inished / (p)revious\n"
          ]
        },
        {
          "name": "stdout",
          "output_type": "stream",
          "text": [
            "no\n"
          ]
        },
        {
          "output_type": "stream",
          "name": "stderr",
          "text": [
            "(y)es / (n)o / (u)nsure / (f)inished / (p)revious\n"
          ]
        },
        {
          "name": "stdout",
          "output_type": "stream",
          "text": [
            "no\n"
          ]
        },
        {
          "output_type": "stream",
          "name": "stderr",
          "text": [
            "(y)es / (n)o / (u)nsure / (f)inished / (p)revious\n"
          ]
        },
        {
          "name": "stdout",
          "output_type": "stream",
          "text": [
            "yes\n"
          ]
        },
        {
          "output_type": "stream",
          "name": "stderr",
          "text": [
            "(y)es / (n)o / (u)nsure / (f)inished / (p)revious\n"
          ]
        },
        {
          "name": "stdout",
          "output_type": "stream",
          "text": [
            "no\n"
          ]
        },
        {
          "output_type": "stream",
          "name": "stderr",
          "text": [
            "(y)es / (n)o / (u)nsure / (f)inished / (p)revious\n"
          ]
        },
        {
          "name": "stdout",
          "output_type": "stream",
          "text": [
            "finished\n"
          ]
        },
        {
          "output_type": "stream",
          "name": "stderr",
          "text": [
            "(y)es / (n)o / (u)nsure / (f)inished / (p)revious\n"
          ]
        },
        {
          "name": "stdout",
          "output_type": "stream",
          "text": [
            "unsure\n"
          ]
        },
        {
          "output_type": "stream",
          "name": "stderr",
          "text": [
            "(y)es / (n)o / (u)nsure / (f)inished / (p)revious\n"
          ]
        },
        {
          "name": "stdout",
          "output_type": "stream",
          "text": [
            "unsure\n"
          ]
        },
        {
          "output_type": "stream",
          "name": "stderr",
          "text": [
            "(y)es / (n)o / (u)nsure / (f)inished / (p)revious\n"
          ]
        },
        {
          "name": "stdout",
          "output_type": "stream",
          "text": [
            "yes\n"
          ]
        },
        {
          "output_type": "stream",
          "name": "stderr",
          "text": [
            "(y)es / (n)o / (u)nsure / (f)inished / (p)revious\n"
          ]
        },
        {
          "name": "stdout",
          "output_type": "stream",
          "text": [
            "no \n"
          ]
        },
        {
          "output_type": "stream",
          "name": "stderr",
          "text": [
            "(y)es / (n)o / (u)nsure / (f)inished / (p)revious\n"
          ]
        },
        {
          "name": "stdout",
          "output_type": "stream",
          "text": [
            "skdcd\n"
          ]
        },
        {
          "output_type": "stream",
          "name": "stderr",
          "text": [
            "(y)es / (n)o / (u)nsure / (f)inished / (p)revious\n"
          ]
        },
        {
          "name": "stdout",
          "output_type": "stream",
          "text": [
            "!\n"
          ]
        },
        {
          "output_type": "stream",
          "name": "stderr",
          "text": [
            "(y)es / (n)o / (u)nsure / (f)inished / (p)revious\n"
          ]
        },
        {
          "name": "stdout",
          "output_type": "stream",
          "text": [
            "y\n"
          ]
        },
        {
          "output_type": "stream",
          "name": "stderr",
          "text": [
            "first_name : jayden\n",
            "surname : white\n",
            "address_1 : phillip avenue\n",
            "address_2 : None\n",
            "suburb : toodyay\n",
            "postcode : 3021\n",
            "state : vic\n",
            "date_of_birth : 12/10/85\n",
            "soc_sec_id : 5956709\n",
            "\n",
            "first_name : niamh\n",
            "surname : nan\n",
            "address_1 : phillip avenue\n",
            "address_2 : None\n",
            "suburb : None\n",
            "postcode : 3939\n",
            "state : vic\n",
            "date_of_birth : None\n",
            "soc_sec_id : 8913923\n",
            "\n",
            "3/10 positive, 0/10 negative\n",
            "Do these records refer to the same thing?\n",
            "(y)es / (n)o / (u)nsure / (f)inished / (p)revious\n"
          ]
        },
        {
          "name": "stdout",
          "output_type": "stream",
          "text": [
            "n\n"
          ]
        },
        {
          "output_type": "stream",
          "name": "stderr",
          "text": [
            "INFO:dedupe.training:Final predicate set:\n",
            "INFO:dedupe.training:SimplePredicate: (wholeFieldPredicate, suburb)\n",
            "first_name : niamh\n",
            "surname : nan\n",
            "address_1 : phillip avenue\n",
            "address_2 : parlour mountain\n",
            "suburb : None\n",
            "postcode : 3939\n",
            "state : vic\n",
            "date_of_birth : 11/17/99\n",
            "soc_sec_id : 8913923\n",
            "\n",
            "first_name : niamh\n",
            "surname : nan\n",
            "address_1 : phillip avenue\n",
            "address_2 : None\n",
            "suburb : None\n",
            "postcode : 3939\n",
            "state : vic\n",
            "date_of_birth : None\n",
            "soc_sec_id : 8913923\n",
            "\n",
            "3/10 positive, 1/10 negative\n",
            "Do these records refer to the same thing?\n",
            "(y)es / (n)o / (u)nsure / (f)inished / (p)revious\n"
          ]
        },
        {
          "name": "stdout",
          "output_type": "stream",
          "text": [
            "u\n"
          ]
        },
        {
          "output_type": "stream",
          "name": "stderr",
          "text": [
            "first_name : harry\n",
            "surname : jolly\n",
            "address_1 : vidal street\n",
            "address_2 : stockland cairns\n",
            "suburb : wahroonga\n",
            "postcode : 6062\n",
            "state : nsw\n",
            "date_of_birth : 04/16/13\n",
            "soc_sec_id : 3416923\n",
            "\n",
            "first_name : alex\n",
            "surname : mcgrzehor\n",
            "address_1 : None\n",
            "address_2 : the summerdhouse\n",
            "suburb : ermington\n",
            "postcode : 2156\n",
            "state : nsw\n",
            "date_of_birth : None\n",
            "soc_sec_id : 6348428\n",
            "\n",
            "3/10 positive, 1/10 negative\n",
            "Do these records refer to the same thing?\n",
            "(y)es / (n)o / (u)nsure / (f)inished / (p)revious\n"
          ]
        },
        {
          "name": "stdout",
          "output_type": "stream",
          "text": [
            "p\n"
          ]
        },
        {
          "output_type": "stream",
          "name": "stderr",
          "text": [
            "first_name : niamh\n",
            "surname : nan\n",
            "address_1 : phillip avenue\n",
            "address_2 : parlour mountain\n",
            "suburb : None\n",
            "postcode : 3939\n",
            "state : vic\n",
            "date_of_birth : 11/17/99\n",
            "soc_sec_id : 8913923\n",
            "\n",
            "first_name : niamh\n",
            "surname : nan\n",
            "address_1 : phillip avenue\n",
            "address_2 : None\n",
            "suburb : None\n",
            "postcode : 3939\n",
            "state : vic\n",
            "date_of_birth : None\n",
            "soc_sec_id : 8913923\n",
            "\n",
            "3/10 positive, 1/10 negative\n",
            "Do these records refer to the same thing?\n",
            "(y)es / (n)o / (u)nsure / (f)inished\n"
          ]
        },
        {
          "name": "stdout",
          "output_type": "stream",
          "text": [
            "y\n"
          ]
        },
        {
          "output_type": "stream",
          "name": "stderr",
          "text": [
            "first_name : harry\n",
            "surname : jolly\n",
            "address_1 : vidal street\n",
            "address_2 : stockland cairns\n",
            "suburb : wahroonga\n",
            "postcode : 6062\n",
            "state : nsw\n",
            "date_of_birth : 04/16/13\n",
            "soc_sec_id : 3416923\n",
            "\n",
            "first_name : alex\n",
            "surname : mcgrzehor\n",
            "address_1 : None\n",
            "address_2 : the summerdhouse\n",
            "suburb : ermington\n",
            "postcode : 2156\n",
            "state : nsw\n",
            "date_of_birth : None\n",
            "soc_sec_id : 6348428\n",
            "\n",
            "4/10 positive, 1/10 negative\n",
            "Do these records refer to the same thing?\n",
            "(y)es / (n)o / (u)nsure / (f)inished / (p)revious\n"
          ]
        },
        {
          "name": "stdout",
          "output_type": "stream",
          "text": [
            "n\n"
          ]
        },
        {
          "output_type": "stream",
          "name": "stderr",
          "text": [
            "INFO:dedupe.training:Final predicate set:\n",
            "INFO:dedupe.training:SimplePredicate: (wholeFieldPredicate, soc_sec_id)\n",
            "INFO:dedupe.training:SimplePredicate: (wholeFieldPredicate, suburb)\n",
            "first_name : lauren\n",
            "surname : de lucia\n",
            "address_1 : mccawley street\n",
            "address_2 : coolalie\n",
            "suburb : bunya mountain\n",
            "postcode : 5152\n",
            "state : vic\n",
            "date_of_birth : 08/10/55\n",
            "soc_sec_id : 7275131\n",
            "\n",
            "first_name : tristan\n",
            "surname : nan\n",
            "address_1 : None\n",
            "address_2 : dookanooka\n",
            "suburb : spencer park\n",
            "postcode : 3621\n",
            "state : nsw\n",
            "date_of_birth : None\n",
            "soc_sec_id : 4894286\n",
            "\n",
            "4/10 positive, 2/10 negative\n",
            "Do these records refer to the same thing?\n",
            "(y)es / (n)o / (u)nsure / (f)inished / (p)revious\n"
          ]
        },
        {
          "name": "stdout",
          "output_type": "stream",
          "text": [
            "n\n"
          ]
        },
        {
          "output_type": "stream",
          "name": "stderr",
          "text": [
            "first_name : abbey\n",
            "surname : ryan\n",
            "address_1 : maccallum circuit\n",
            "address_2 : None\n",
            "suburb : o'connor\n",
            "postcode : 2113\n",
            "state : None\n",
            "date_of_birth : 02/26/05\n",
            "soc_sec_id : 9364158\n",
            "\n",
            "first_name : abbey\n",
            "surname : ryann\n",
            "address_1 : maccallum circuit\n",
            "address_2 : None\n",
            "suburb : o'conkor\n",
            "postcode : 2113\n",
            "state : None\n",
            "date_of_birth : 02/26/05\n",
            "soc_sec_id : 9346158\n",
            "\n",
            "4/10 positive, 3/10 negative\n",
            "Do these records refer to the same thing?\n",
            "(y)es / (n)o / (u)nsure / (f)inished / (p)revious\n"
          ]
        },
        {
          "name": "stdout",
          "output_type": "stream",
          "text": [
            "y\n"
          ]
        },
        {
          "output_type": "stream",
          "name": "stderr",
          "text": [
            "first_name : nicole\n",
            "surname : bradshaw\n",
            "address_1 : lander crescent\n",
            "address_2 : None\n",
            "suburb : None\n",
            "postcode : 4061\n",
            "state : wa\n",
            "date_of_birth : 08/09/41\n",
            "soc_sec_id : 7863588\n",
            "\n",
            "first_name : nicole\n",
            "surname : bradwamw\n",
            "address_1 : lander crescent\n",
            "address_2 : None\n",
            "suburb : None\n",
            "postcode : 6195\n",
            "state : wa\n",
            "date_of_birth : 08/09/41\n",
            "soc_sec_id : 7865388\n",
            "\n",
            "5/10 positive, 3/10 negative\n",
            "Do these records refer to the same thing?\n",
            "(y)es / (n)o / (u)nsure / (f)inished / (p)revious\n"
          ]
        },
        {
          "name": "stdout",
          "output_type": "stream",
          "text": [
            "hy\n"
          ]
        },
        {
          "output_type": "stream",
          "name": "stderr",
          "text": [
            "(y)es / (n)o / (u)nsure / (f)inished / (p)revious\n"
          ]
        },
        {
          "name": "stdout",
          "output_type": "stream",
          "text": [
            "y\n"
          ]
        },
        {
          "output_type": "stream",
          "name": "stderr",
          "text": [
            "INFO:dedupe.training:Final predicate set:\n",
            "INFO:dedupe.training:SimplePredicate: (wholeFieldPredicate, suburb)\n",
            "INFO:dedupe.training:SimplePredicate: (wholeFieldPredicate, address_1)\n",
            "first_name : mia\n",
            "surname : hignett\n",
            "address_1 : treacy place\n",
            "address_2 : None\n",
            "suburb : None\n",
            "postcode : 3824\n",
            "state : nsw\n",
            "date_of_birth : 06/21/10\n",
            "soc_sec_id : 8964765\n",
            "\n",
            "first_name : mia\n",
            "surname : hignehg\n",
            "address_1 : treac plce\n",
            "address_2 : None\n",
            "suburb : None\n",
            "postcode : 3824\n",
            "state : nsw\n",
            "date_of_birth : 06/21/10\n",
            "soc_sec_id : 8964765\n",
            "\n",
            "6/10 positive, 3/10 negative\n",
            "Do these records refer to the same thing?\n",
            "(y)es / (n)o / (u)nsure / (f)inished / (p)revious\n"
          ]
        },
        {
          "name": "stdout",
          "output_type": "stream",
          "text": [
            "n\n"
          ]
        },
        {
          "output_type": "stream",
          "name": "stderr",
          "text": [
            "first_name : brianna\n",
            "surname : boyes\n",
            "address_1 : mcinnes street\n",
            "address_2 : None\n",
            "suburb : None\n",
            "postcode : 2680\n",
            "state : nsw\n",
            "date_of_birth : 08/01/27\n",
            "soc_sec_id : 4306495\n",
            "\n",
            "first_name : brianna\n",
            "surname : boye\n",
            "address_1 : xrreet mcfinnes\n",
            "address_2 : None\n",
            "suburb : None\n",
            "postcode : 2680\n",
            "state : nsw\n",
            "date_of_birth : 08/01/27\n",
            "soc_sec_id : 4306495\n",
            "\n",
            "6/10 positive, 4/10 negative\n",
            "Do these records refer to the same thing?\n",
            "(y)es / (n)o / (u)nsure / (f)inished / (p)revious\n"
          ]
        },
        {
          "name": "stdout",
          "output_type": "stream",
          "text": [
            "n\n"
          ]
        },
        {
          "output_type": "stream",
          "name": "stderr",
          "text": [
            "first_name : daniel\n",
            "surname : van akker\n",
            "address_1 : None\n",
            "address_2 : None\n",
            "suburb : biggera waters\n",
            "postcode : 4032\n",
            "state : wa\n",
            "date_of_birth : 01/17/08\n",
            "soc_sec_id : 8117255\n",
            "\n",
            "first_name : dann\n",
            "surname : van akker\n",
            "address_1 : None\n",
            "address_2 : None\n",
            "suburb : biggera wayers\n",
            "postcode : 4032\n",
            "state : wr\n",
            "date_of_birth : None\n",
            "soc_sec_id : 8117255\n",
            "\n",
            "6/10 positive, 5/10 negative\n",
            "Do these records refer to the same thing?\n",
            "(y)es / (n)o / (u)nsure / (f)inished / (p)revious\n"
          ]
        },
        {
          "name": "stdout",
          "output_type": "stream",
          "text": [
            "u\n"
          ]
        },
        {
          "output_type": "stream",
          "name": "stderr",
          "text": [
            "first_name : pascale\n",
            "surname : pagden\n",
            "address_1 : lowrie street\n",
            "address_2 : rosehill\n",
            "suburb : rivett\n",
            "postcode : 2480\n",
            "state : None\n",
            "date_of_birth : 05/13/54\n",
            "soc_sec_id : 4011202\n",
            "\n",
            "first_name : pascale\n",
            "surname : pagden\n",
            "address_1 : None\n",
            "address_2 : rosehill\n",
            "suburb : rivef\n",
            "postcode : 2480\n",
            "state : None\n",
            "date_of_birth : 06/23/54\n",
            "soc_sec_id : 4011202\n",
            "\n",
            "6/10 positive, 5/10 negative\n",
            "Do these records refer to the same thing?\n",
            "(y)es / (n)o / (u)nsure / (f)inished / (p)revious\n"
          ]
        },
        {
          "name": "stdout",
          "output_type": "stream",
          "text": [
            "p\n"
          ]
        },
        {
          "output_type": "stream",
          "name": "stderr",
          "text": [
            "first_name : daniel\n",
            "surname : van akker\n",
            "address_1 : None\n",
            "address_2 : None\n",
            "suburb : biggera waters\n",
            "postcode : 4032\n",
            "state : wa\n",
            "date_of_birth : 01/17/08\n",
            "soc_sec_id : 8117255\n",
            "\n",
            "first_name : dann\n",
            "surname : van akker\n",
            "address_1 : None\n",
            "address_2 : None\n",
            "suburb : biggera wayers\n",
            "postcode : 4032\n",
            "state : wr\n",
            "date_of_birth : None\n",
            "soc_sec_id : 8117255\n",
            "\n",
            "6/10 positive, 5/10 negative\n",
            "Do these records refer to the same thing?\n",
            "(y)es / (n)o / (u)nsure / (f)inished\n"
          ]
        },
        {
          "name": "stdout",
          "output_type": "stream",
          "text": [
            "p\n"
          ]
        },
        {
          "output_type": "stream",
          "name": "stderr",
          "text": [
            "(y)es / (n)o / (u)nsure / (f)inished\n"
          ]
        },
        {
          "name": "stdout",
          "output_type": "stream",
          "text": [
            "p\n"
          ]
        },
        {
          "output_type": "stream",
          "name": "stderr",
          "text": [
            "(y)es / (n)o / (u)nsure / (f)inished\n"
          ]
        },
        {
          "name": "stdout",
          "output_type": "stream",
          "text": [
            "n\n"
          ]
        },
        {
          "output_type": "stream",
          "name": "stderr",
          "text": [
            "first_name : pascale\n",
            "surname : pagden\n",
            "address_1 : lowrie street\n",
            "address_2 : rosehill\n",
            "suburb : rivett\n",
            "postcode : 2480\n",
            "state : None\n",
            "date_of_birth : 05/13/54\n",
            "soc_sec_id : 4011202\n",
            "\n",
            "first_name : pascale\n",
            "surname : pagden\n",
            "address_1 : None\n",
            "address_2 : rosehill\n",
            "suburb : rivef\n",
            "postcode : 2480\n",
            "state : None\n",
            "date_of_birth : 06/23/54\n",
            "soc_sec_id : 4011202\n",
            "\n",
            "6/10 positive, 6/10 negative\n",
            "Do these records refer to the same thing?\n",
            "(y)es / (n)o / (u)nsure / (f)inished / (p)revious\n"
          ]
        },
        {
          "name": "stdout",
          "output_type": "stream",
          "text": [
            "y\n"
          ]
        },
        {
          "output_type": "stream",
          "name": "stderr",
          "text": [
            "first_name : louis\n",
            "surname : traforti\n",
            "address_1 : barnett close\n",
            "address_2 : tilburoo\n",
            "suburb : pacific paradise\n",
            "postcode : 2518\n",
            "state : vic\n",
            "date_of_birth : 05/12/38\n",
            "soc_sec_id : 1913191\n",
            "\n",
            "first_name : louis\n",
            "surname : trafcrati\n",
            "address_1 : None\n",
            "address_2 : tilburoo\n",
            "suburb : None\n",
            "postcode : 2518\n",
            "state : vic\n",
            "date_of_birth : 05/12/38\n",
            "soc_sec_id : 1913191\n",
            "\n",
            "7/10 positive, 6/10 negative\n",
            "Do these records refer to the same thing?\n",
            "(y)es / (n)o / (u)nsure / (f)inished / (p)revious\n"
          ]
        },
        {
          "name": "stdout",
          "output_type": "stream",
          "text": [
            "f\n"
          ]
        },
        {
          "output_type": "stream",
          "name": "stderr",
          "text": [
            "Finished labeling\n",
            "INFO:dedupe.training:Final predicate set:\n",
            "INFO:dedupe.training:SimplePredicate: (wholeFieldPredicate, soc_sec_id)\n",
            "INFO:dedupe.training:SimplePredicate: (dayPredicate, date_of_birth)\n",
            "INFO:dedupe.training:SimplePredicate: (wholeFieldPredicate, suburb)\n"
          ]
        }
      ],
      "source": [
        "dedupe.console_label(linker)"
      ]
    },
    {
      "cell_type": "markdown",
      "metadata": {
        "id": "HvgjUtGN5yxe"
      },
      "source": [
        "We can now train our linker, based on the labeling session feedback."
      ]
    },
    {
      "cell_type": "code",
      "execution_count": 12,
      "metadata": {
        "id": "9oCIp84_5yxe",
        "colab": {
          "base_uri": "https://localhost:8080/"
        },
        "outputId": "62bc6a88-214c-435e-d14b-7b0e8a8912eb"
      },
      "outputs": [
        {
          "output_type": "stream",
          "name": "stderr",
          "text": [
            "INFO:rlr.crossvalidation:using cross validation to find optimum alpha...\n",
            "/usr/local/lib/python3.7/dist-packages/rlr/crossvalidation.py:122: RuntimeWarning: invalid value encountered in double_scalars\n",
            "  * (true_distinct + false_distinct)))\n",
            "INFO:rlr.crossvalidation:optimum alpha: 1.000000, score 0.15210872754635707\n",
            "INFO:dedupe.training:Final predicate set:\n",
            "INFO:dedupe.training:SimplePredicate: (wholeFieldPredicate, suburb)\n",
            "INFO:dedupe.training:(SimplePredicate: (fingerprint, address_1), PartialIndexLevenshteinSearchPredicate: (1, surname, Surname), SimplePredicate: (suffixArray, first_name))\n",
            "INFO:dedupe.training:(SimplePredicate: (doubleMetaphone, address_2), PartialPredicate: (metaphoneToken, first_name, Surname), PartialIndexLevenshteinSearchPredicate: (2, surname, Surname))\n",
            "INFO:dedupe.training:(SimplePredicate: (fingerprint, address_1), SimplePredicate: (commonSixGram, first_name), PartialIndexLevenshteinSearchPredicate: (1, first_name, Surname))\n"
          ]
        },
        {
          "output_type": "stream",
          "name": "stdout",
          "text": [
            "CPU times: user 4.69 s, sys: 592 ms, total: 5.28 s\n",
            "Wall time: 4.76 s\n"
          ]
        }
      ],
      "source": [
        "%%time\n",
        "linker.train()"
      ]
    },
    {
      "cell_type": "markdown",
      "metadata": {
        "id": "YP4kCVpx5yxf"
      },
      "source": [
        "Let's persist our training data (captured during in the labeling session), as well as the learned model weights."
      ]
    },
    {
      "cell_type": "code",
      "execution_count": 13,
      "metadata": {
        "id": "09w2c46q5yxf"
      },
      "outputs": [],
      "source": [
        "ACTIVE_LEARNING_DIR = WORKING_DIR / \"dedupe_active_learning\"\n",
        "ACTIVE_LEARNING_DIR.mkdir(parents=True, exist_ok=True)\n",
        "\n",
        "SETTINGS_FILE = ACTIVE_LEARNING_DIR / \"dedupe_learned_settings\"\n",
        "TRAINING_FILE = ACTIVE_LEARNING_DIR / \"dedupe_training.json\"\n",
        "\n",
        "with open(TRAINING_FILE, \"w\") as fh:\n",
        "    linker.write_training(fh)\n",
        "    \n",
        "with open(SETTINGS_FILE, \"wb\") as sf:\n",
        "    linker.write_settings(sf)"
      ]
    },
    {
      "cell_type": "markdown",
      "metadata": {
        "id": "e1oN1fqB5yxg"
      },
      "source": [
        "## Examine Learned Blockers"
      ]
    },
    {
      "cell_type": "markdown",
      "metadata": {
        "id": "DB7DxSOm5yxg"
      },
      "source": [
        "Now, let's take a look at the predicates (blockers) that `dedupe` learned during our active learning labeling session. Note that `dedupe` can learn composite predicates/blockers, i.e. individual predicates can be combined with logical operators."
      ]
    },
    {
      "cell_type": "code",
      "execution_count": 14,
      "metadata": {
        "id": "l9P90bT95yxg",
        "colab": {
          "base_uri": "https://localhost:8080/"
        },
        "outputId": "575e38b6-827e-4bd7-8a5a-7d9e058453ae"
      },
      "outputs": [
        {
          "output_type": "execute_result",
          "data": {
            "text/plain": [
              "(SimplePredicate: (wholeFieldPredicate, suburb),\n",
              " (SimplePredicate: (fingerprint, address_1),\n",
              "  PartialIndexLevenshteinSearchPredicate: (1, surname, Surname),\n",
              "  SimplePredicate: (suffixArray, first_name)),\n",
              " (SimplePredicate: (doubleMetaphone, address_2),\n",
              "  PartialPredicate: (metaphoneToken, first_name, Surname),\n",
              "  PartialIndexLevenshteinSearchPredicate: (2, surname, Surname)),\n",
              " (SimplePredicate: (fingerprint, address_1),\n",
              "  SimplePredicate: (commonSixGram, first_name),\n",
              "  PartialIndexLevenshteinSearchPredicate: (1, first_name, Surname)))"
            ]
          },
          "metadata": {},
          "execution_count": 14
        }
      ],
      "source": [
        "linker.predicates"
      ]
    },
    {
      "cell_type": "markdown",
      "metadata": {
        "id": "z5tFIe2k5yxh"
      },
      "source": [
        "Next, let's examine the resulting candidate pairs and look at our blocking efficiency. The `.pairs` method will give us all candidate record pairs that are generated by blocking with the learned blockers."
      ]
    },
    {
      "cell_type": "code",
      "execution_count": 15,
      "metadata": {
        "id": "PuOwNiCB5yxh",
        "colab": {
          "base_uri": "https://localhost:8080/"
        },
        "outputId": "13466e96-0385-4e7f-c090-298a221b65b5"
      },
      "outputs": [
        {
          "output_type": "stream",
          "name": "stdout",
          "text": [
            "10,820 candidate pairs generated from blocking.\n"
          ]
        }
      ],
      "source": [
        "candidate_pairs = [x for x in linker.pairs(records_A, records_B)]\n",
        "print(f\"{len(candidate_pairs):,} candidate pairs generated from blocking.\")"
      ]
    },
    {
      "cell_type": "markdown",
      "metadata": {
        "id": "t-RvB8-o5yxi"
      },
      "source": [
        "You'll notice that, in contrast to `recordlinkage`, our post-blocking candidate pairs contain both the record ids as well as the record metadata."
      ]
    },
    {
      "cell_type": "code",
      "execution_count": 16,
      "metadata": {
        "id": "r5bOpvI25yxi",
        "colab": {
          "base_uri": "https://localhost:8080/"
        },
        "outputId": "982e1d7d-7d39-4f62-8729-19c1cbd1a237"
      },
      "outputs": [
        {
          "output_type": "execute_result",
          "data": {
            "text/plain": [
              "(('fbc4143d-15f9-4f27-b5f0-dedbadce6616',\n",
              "  {'address_1': 'ballard place',\n",
              "   'address_2': None,\n",
              "   'age': '32',\n",
              "   'date_of_birth': '10/02/61',\n",
              "   'first_name': 'matilda',\n",
              "   'phone_number': '03 05903135',\n",
              "   'postcode': '2470',\n",
              "   'soc_sec_id': '8276847',\n",
              "   'state': 'qld',\n",
              "   'street_number': '8',\n",
              "   'suburb': 'west perth',\n",
              "   'surname': 'struck'}),\n",
              " ('a9f5a761-83d6-452e-9f27-a452b3d06a4e',\n",
              "  {'address_1': 'ballard place',\n",
              "   'address_2': None,\n",
              "   'age': '32',\n",
              "   'date_of_birth': '10/02/61',\n",
              "   'first_name': 'matikda',\n",
              "   'phone_number': '03 05903135',\n",
              "   'postcode': '2407',\n",
              "   'soc_sec_id': '8276847',\n",
              "   'state': 'qld',\n",
              "   'street_number': '0',\n",
              "   'suburb': 'west perth',\n",
              "   'surname': 'strucl'}))"
            ]
          },
          "metadata": {},
          "execution_count": 16
        }
      ],
      "source": [
        "candidate_pairs[0]"
      ]
    },
    {
      "cell_type": "markdown",
      "metadata": {
        "id": "ehe3qGg-5yxi"
      },
      "source": [
        "We can assemble our candidate pair ids into an indexed pandas dataframe for easier comparision with our known true links."
      ]
    },
    {
      "cell_type": "code",
      "execution_count": 17,
      "metadata": {
        "id": "Vpn3nwJt5yxj",
        "colab": {
          "base_uri": "https://localhost:8080/",
          "height": 220
        },
        "outputId": "25b77663-e525-4697-fd1c-83017e01e70e"
      },
      "outputs": [
        {
          "output_type": "execute_result",
          "data": {
            "text/html": [
              "<div>\n",
              "<style scoped>\n",
              "    .dataframe tbody tr th:only-of-type {\n",
              "        vertical-align: middle;\n",
              "    }\n",
              "\n",
              "    .dataframe tbody tr th {\n",
              "        vertical-align: top;\n",
              "    }\n",
              "\n",
              "    .dataframe thead th {\n",
              "        text-align: right;\n",
              "    }\n",
              "</style>\n",
              "<table border=\"1\" class=\"dataframe\">\n",
              "  <thead>\n",
              "    <tr style=\"text-align: right;\">\n",
              "      <th></th>\n",
              "      <th></th>\n",
              "    </tr>\n",
              "    <tr>\n",
              "      <th>person_id_A</th>\n",
              "      <th>person_id_B</th>\n",
              "    </tr>\n",
              "  </thead>\n",
              "  <tbody>\n",
              "    <tr>\n",
              "      <th rowspan=\"3\" valign=\"top\">fbc4143d-15f9-4f27-b5f0-dedbadce6616</th>\n",
              "      <th>a9f5a761-83d6-452e-9f27-a452b3d06a4e</th>\n",
              "    </tr>\n",
              "    <tr>\n",
              "      <th>afbb48d7-b06e-40f3-8023-7c3852a6ad5d</th>\n",
              "    </tr>\n",
              "    <tr>\n",
              "      <th>aec70f38-c323-4d7d-9394-0488c22676a6</th>\n",
              "    </tr>\n",
              "    <tr>\n",
              "      <th rowspan=\"2\" valign=\"top\">48a56cad-7ba6-45e1-97cd-517ba65bdab5</th>\n",
              "      <th>51bf6fb2-ec9e-415f-91d4-463a0f42fb08</th>\n",
              "    </tr>\n",
              "    <tr>\n",
              "      <th>0507647b-8ca2-41f2-8cbf-96f90cad647c</th>\n",
              "    </tr>\n",
              "  </tbody>\n",
              "</table>\n",
              "</div>"
            ],
            "text/plain": [
              "Empty DataFrame\n",
              "Columns: []\n",
              "Index: [(fbc4143d-15f9-4f27-b5f0-dedbadce6616, a9f5a761-83d6-452e-9f27-a452b3d06a4e), (fbc4143d-15f9-4f27-b5f0-dedbadce6616, afbb48d7-b06e-40f3-8023-7c3852a6ad5d), (fbc4143d-15f9-4f27-b5f0-dedbadce6616, aec70f38-c323-4d7d-9394-0488c22676a6), (48a56cad-7ba6-45e1-97cd-517ba65bdab5, 51bf6fb2-ec9e-415f-91d4-463a0f42fb08), (48a56cad-7ba6-45e1-97cd-517ba65bdab5, 0507647b-8ca2-41f2-8cbf-96f90cad647c)]"
            ]
          },
          "metadata": {},
          "execution_count": 17
        }
      ],
      "source": [
        "df_candidate_links = pd.DataFrame(\n",
        "    [(x[0][0], x[1][0]) for x in candidate_pairs]\n",
        ").rename(columns={0 : \"person_id_A\", 1 : \"person_id_B\"}).set_index([\"person_id_A\", \"person_id_B\"])\n",
        "\n",
        "df_candidate_links.head()"
      ]
    },
    {
      "cell_type": "markdown",
      "metadata": {
        "id": "lY49lAJz5yxj"
      },
      "source": [
        "Now, let's take a look at our learned blocker performance."
      ]
    },
    {
      "cell_type": "code",
      "execution_count": 18,
      "metadata": {
        "id": "_mslYOoq5yxj",
        "colab": {
          "base_uri": "https://localhost:8080/"
        },
        "outputId": "8eaee099-e59b-4d5e-8111-1499441b74e8"
      },
      "outputs": [
        {
          "output_type": "stream",
          "name": "stdout",
          "text": [
            "10,562,500 total possible pairs.\n",
            "\n",
            "10,820 pairs after full blocking: 0.998976% search space reduction.\n",
            "77.7% true links retained after blocking.\n"
          ]
        }
      ],
      "source": [
        "max_candidate_pairs = df_A.shape[0]*df_B.shape[0]\n",
        "\n",
        "print(f\"{max_candidate_pairs:,} total possible pairs.\")\n",
        "\n",
        "# Calculate search space reduction.\n",
        "search_space_reduction = round(1 - len(candidate_pairs)/max_candidate_pairs, 6)\n",
        "print(f\"\\n{len(candidate_pairs):,} pairs after full blocking: {search_space_reduction}% search space reduction.\")\n",
        "\n",
        "# Calculate retained true links percentage.\n",
        "total_true_links = df_ground_truth.shape[0]\n",
        "true_links_after_blocking = pd.merge(\n",
        "    df_ground_truth,\n",
        "    df_candidate_links,\n",
        "    left_index=True,\n",
        "    right_index=True,\n",
        "    how=\"inner\"\n",
        ").shape[0]\n",
        "\n",
        "retained_true_link_percent = round((true_links_after_blocking/total_true_links) * 100, 2)\n",
        "print(f\"{retained_true_link_percent}% true links retained after blocking.\")"
      ]
    },
    {
      "cell_type": "markdown",
      "metadata": {
        "id": "tmiU7pEe5yxk"
      },
      "source": [
        "## Score Pairs and Examine Learned Classifier"
      ]
    },
    {
      "cell_type": "markdown",
      "metadata": {
        "id": "Hxq1kThn5yxk"
      },
      "source": [
        "After `dedupe` has trained blockers and a classification model based on our labeling session, we can link the records in our training dataset via the `.join` method."
      ]
    },
    {
      "cell_type": "code",
      "execution_count": 19,
      "metadata": {
        "id": "_4AL9C3b5yxk",
        "colab": {
          "base_uri": "https://localhost:8080/"
        },
        "outputId": "d47e1671-39e8-4a42-8b41-06937250a61f"
      },
      "outputs": [
        {
          "output_type": "stream",
          "name": "stdout",
          "text": [
            "CPU times: user 781 ms, sys: 95.9 ms, total: 877 ms\n",
            "Wall time: 6.45 s\n"
          ]
        }
      ],
      "source": [
        "%%time\n",
        "linked_records = linker.join(records_A, records_B, threshold=0.0, constraint=\"one-to-one\")"
      ]
    },
    {
      "cell_type": "markdown",
      "metadata": {
        "id": "wVtHu3Ug5yxk"
      },
      "source": [
        "`linker.join` will return the links, along with a model confidence."
      ]
    },
    {
      "cell_type": "code",
      "execution_count": 20,
      "metadata": {
        "id": "hU7P2djI5yxl",
        "colab": {
          "base_uri": "https://localhost:8080/"
        },
        "outputId": "8de518da-7686-4f15-cbcc-25fb3fc97af6"
      },
      "outputs": [
        {
          "output_type": "execute_result",
          "data": {
            "text/plain": [
              "[(('fffcadcc-3c22-4d1f-b04d-651aaddeac57',\n",
              "   '614cc809-04fa-40d1-8904-5e006cd8463a'),\n",
              "  1.0),\n",
              " (('fff044ab-8dca-4946-bfa4-1675ee7d56b5',\n",
              "   '94b962d7-2ae4-4cb5-baf7-1a2e602d8db8'),\n",
              "  1.0),\n",
              " (('ffd668ac-2f63-4c05-a6a3-58ebcf1f4a80',\n",
              "   'e601f439-c5b9-4ee7-a2fb-d437e6d23b76'),\n",
              "  1.0)]"
            ]
          },
          "metadata": {},
          "execution_count": 20
        }
      ],
      "source": [
        "linked_records[0:3]"
      ]
    },
    {
      "cell_type": "markdown",
      "metadata": {
        "id": "DVh6gz3j5yxl"
      },
      "source": [
        "We'll format the `dedupe` linker predictions into a format that we can use with our existing evaluation functions."
      ]
    },
    {
      "cell_type": "code",
      "execution_count": 21,
      "metadata": {
        "id": "daRVGMe35yxl",
        "colab": {
          "base_uri": "https://localhost:8080/",
          "height": 455
        },
        "outputId": "019449ed-9295-4f62-d2f1-f4cb3b3a4875"
      },
      "outputs": [
        {
          "output_type": "execute_result",
          "data": {
            "text/html": [
              "<div>\n",
              "<style scoped>\n",
              "    .dataframe tbody tr th:only-of-type {\n",
              "        vertical-align: middle;\n",
              "    }\n",
              "\n",
              "    .dataframe tbody tr th {\n",
              "        vertical-align: top;\n",
              "    }\n",
              "\n",
              "    .dataframe thead th {\n",
              "        text-align: right;\n",
              "    }\n",
              "</style>\n",
              "<table border=\"1\" class=\"dataframe\">\n",
              "  <thead>\n",
              "    <tr style=\"text-align: right;\">\n",
              "      <th></th>\n",
              "      <th></th>\n",
              "      <th>model_score</th>\n",
              "      <th>ground_truth</th>\n",
              "    </tr>\n",
              "    <tr>\n",
              "      <th>person_id_A</th>\n",
              "      <th>person_id_B</th>\n",
              "      <th></th>\n",
              "      <th></th>\n",
              "    </tr>\n",
              "  </thead>\n",
              "  <tbody>\n",
              "    <tr>\n",
              "      <th>fffcadcc-3c22-4d1f-b04d-651aaddeac57</th>\n",
              "      <th>614cc809-04fa-40d1-8904-5e006cd8463a</th>\n",
              "      <td>1.000000</td>\n",
              "      <td>False</td>\n",
              "    </tr>\n",
              "    <tr>\n",
              "      <th>fff044ab-8dca-4946-bfa4-1675ee7d56b5</th>\n",
              "      <th>94b962d7-2ae4-4cb5-baf7-1a2e602d8db8</th>\n",
              "      <td>1.000000</td>\n",
              "      <td>False</td>\n",
              "    </tr>\n",
              "    <tr>\n",
              "      <th>ffd668ac-2f63-4c05-a6a3-58ebcf1f4a80</th>\n",
              "      <th>e601f439-c5b9-4ee7-a2fb-d437e6d23b76</th>\n",
              "      <td>1.000000</td>\n",
              "      <td>False</td>\n",
              "    </tr>\n",
              "    <tr>\n",
              "      <th>ffb8ff59-209a-438e-bf5d-0c0864cb4d7b</th>\n",
              "      <th>a37ad5f0-ce2e-4501-b98f-2d20090b66b7</th>\n",
              "      <td>1.000000</td>\n",
              "      <td>False</td>\n",
              "    </tr>\n",
              "    <tr>\n",
              "      <th>ffa8ddc9-ed8d-4bfc-bd1a-aa7e8b86122b</th>\n",
              "      <th>3b7136be-2898-4b83-a975-de87bc1ae845</th>\n",
              "      <td>1.000000</td>\n",
              "      <td>False</td>\n",
              "    </tr>\n",
              "    <tr>\n",
              "      <th>...</th>\n",
              "      <th>...</th>\n",
              "      <td>...</td>\n",
              "      <td>...</td>\n",
              "    </tr>\n",
              "    <tr>\n",
              "      <th>a90236c5-28aa-4353-a0ac-13ec568070c6</th>\n",
              "      <th>8a85898f-c423-4e21-ad4a-7976e7db0317</th>\n",
              "      <td>0.001327</td>\n",
              "      <td>False</td>\n",
              "    </tr>\n",
              "    <tr>\n",
              "      <th>461a2862-2530-443b-9cfc-cd17c792fad8</th>\n",
              "      <th>7983fb9b-090e-4234-91bb-41e8ac6f380b</th>\n",
              "      <td>0.001124</td>\n",
              "      <td>False</td>\n",
              "    </tr>\n",
              "    <tr>\n",
              "      <th>d0f5f0e4-86e8-4d16-90e1-e879cc2b6a94</th>\n",
              "      <th>3afd6b5a-d025-406f-aec0-779ea562f32e</th>\n",
              "      <td>0.000881</td>\n",
              "      <td>False</td>\n",
              "    </tr>\n",
              "    <tr>\n",
              "      <th>3357e5d4-2cd5-4df4-8d55-a783b6216c38</th>\n",
              "      <th>63921136-968b-4995-9910-50b281b28d13</th>\n",
              "      <td>0.000759</td>\n",
              "      <td>False</td>\n",
              "    </tr>\n",
              "    <tr>\n",
              "      <th>63dfd460-71c1-4abb-bdd4-8bec41941843</th>\n",
              "      <th>ebdea5ad-1b2f-434e-bd0e-68138ada613b</th>\n",
              "      <td>0.000481</td>\n",
              "      <td>False</td>\n",
              "    </tr>\n",
              "  </tbody>\n",
              "</table>\n",
              "<p>2385 rows × 2 columns</p>\n",
              "</div>"
            ],
            "text/plain": [
              "                                                                           model_score  ground_truth\n",
              "person_id_A                          person_id_B                                                    \n",
              "fffcadcc-3c22-4d1f-b04d-651aaddeac57 614cc809-04fa-40d1-8904-5e006cd8463a     1.000000         False\n",
              "fff044ab-8dca-4946-bfa4-1675ee7d56b5 94b962d7-2ae4-4cb5-baf7-1a2e602d8db8     1.000000         False\n",
              "ffd668ac-2f63-4c05-a6a3-58ebcf1f4a80 e601f439-c5b9-4ee7-a2fb-d437e6d23b76     1.000000         False\n",
              "ffb8ff59-209a-438e-bf5d-0c0864cb4d7b a37ad5f0-ce2e-4501-b98f-2d20090b66b7     1.000000         False\n",
              "ffa8ddc9-ed8d-4bfc-bd1a-aa7e8b86122b 3b7136be-2898-4b83-a975-de87bc1ae845     1.000000         False\n",
              "...                                                                                ...           ...\n",
              "a90236c5-28aa-4353-a0ac-13ec568070c6 8a85898f-c423-4e21-ad4a-7976e7db0317     0.001327         False\n",
              "461a2862-2530-443b-9cfc-cd17c792fad8 7983fb9b-090e-4234-91bb-41e8ac6f380b     0.001124         False\n",
              "d0f5f0e4-86e8-4d16-90e1-e879cc2b6a94 3afd6b5a-d025-406f-aec0-779ea562f32e     0.000881         False\n",
              "3357e5d4-2cd5-4df4-8d55-a783b6216c38 63921136-968b-4995-9910-50b281b28d13     0.000759         False\n",
              "63dfd460-71c1-4abb-bdd4-8bec41941843 ebdea5ad-1b2f-434e-bd0e-68138ada613b     0.000481         False\n",
              "\n",
              "[2385 rows x 2 columns]"
            ]
          },
          "metadata": {},
          "execution_count": 21
        }
      ],
      "source": [
        "df_predictions = pd.DataFrame(\n",
        "    [ {\"person_id_A\" : x[0][0], \"person_id_B\" : x[0][1], \"model_score\" : x[1]} for x in linked_records]\n",
        ")\n",
        "\n",
        "df_predictions = df_predictions.set_index([\"person_id_A\", \"person_id_B\"])\n",
        "\n",
        "df_predictions = pd.merge(\n",
        "    df_predictions,\n",
        "    df_ground_truth,\n",
        "    left_index=True,\n",
        "    right_index=True,\n",
        "    how=\"left\",\n",
        ")\n",
        "\n",
        "df_predictions[\"ground_truth\"].fillna(False, inplace=True)\n",
        "df_predictions"
      ]
    },
    {
      "cell_type": "markdown",
      "metadata": {
        "id": "XqDcWaLp5yxm"
      },
      "source": [
        "## Choosing a Linking Model Score Threshold"
      ]
    },
    {
      "cell_type": "markdown",
      "metadata": {
        "id": "IsH9wRmy5yxm"
      },
      "source": [
        "The `dedupe` `.join` method that we used to score our training data directly incorporates the learned blockers. Thus, note that the scored pairs appearing on the distribution represent blocked pairs, and that our blockers *significantly* reduced the candidate pair search space."
      ]
    },
    {
      "cell_type": "markdown",
      "metadata": {
        "id": "lD78_qz35yxm"
      },
      "source": [
        "### Model Score Distribution"
      ]
    },
    {
      "cell_type": "code",
      "execution_count": 22,
      "metadata": {
        "id": "i0f6Ki4y5yxm",
        "colab": {
          "base_uri": "https://localhost:8080/"
        },
        "outputId": "4e0787b4-8ee8-4e2f-8637-728c85163ed8"
      },
      "outputs": [
        {
          "output_type": "execute_result",
          "data": {
            "text/plain": [
              "False    1377\n",
              "True     1008\n",
              "Name: ground_truth, dtype: int64"
            ]
          },
          "metadata": {},
          "execution_count": 22
        }
      ],
      "source": [
        "df_predictions[\"ground_truth\"].value_counts()"
      ]
    },
    {
      "cell_type": "code",
      "execution_count": 23,
      "metadata": {
        "id": "smOfmdxJ5yxm",
        "colab": {
          "base_uri": "https://localhost:8080/",
          "height": 503
        },
        "outputId": "881b18d1-1fb5-40a9-f477-b95ebe18f597"
      },
      "outputs": [
        {
          "output_type": "stream",
          "name": "stderr",
          "text": [
            "INFO:numexpr.utils:NumExpr defaulting to 2 threads.\n"
          ]
        },
        {
          "output_type": "execute_result",
          "data": {
            "text/plain": [
              "alt.Chart(...)"
            ],
            "text/html": [
              "\n",
              "<div id=\"altair-viz-c450a76736ca4f9ba4a6c4e12f25e672\"></div>\n",
              "<script type=\"text/javascript\">\n",
              "  (function(spec, embedOpt){\n",
              "    let outputDiv = document.currentScript.previousElementSibling;\n",
              "    if (outputDiv.id !== \"altair-viz-c450a76736ca4f9ba4a6c4e12f25e672\") {\n",
              "      outputDiv = document.getElementById(\"altair-viz-c450a76736ca4f9ba4a6c4e12f25e672\");\n",
              "    }\n",
              "    const paths = {\n",
              "      \"vega\": \"https://cdn.jsdelivr.net/npm//vega@5?noext\",\n",
              "      \"vega-lib\": \"https://cdn.jsdelivr.net/npm//vega-lib?noext\",\n",
              "      \"vega-lite\": \"https://cdn.jsdelivr.net/npm//vega-lite@4.8.1?noext\",\n",
              "      \"vega-embed\": \"https://cdn.jsdelivr.net/npm//vega-embed@6?noext\",\n",
              "    };\n",
              "\n",
              "    function loadScript(lib) {\n",
              "      return new Promise(function(resolve, reject) {\n",
              "        var s = document.createElement('script');\n",
              "        s.src = paths[lib];\n",
              "        s.async = true;\n",
              "        s.onload = () => resolve(paths[lib]);\n",
              "        s.onerror = () => reject(`Error loading script: ${paths[lib]}`);\n",
              "        document.getElementsByTagName(\"head\")[0].appendChild(s);\n",
              "      });\n",
              "    }\n",
              "\n",
              "    function showError(err) {\n",
              "      outputDiv.innerHTML = `<div class=\"error\" style=\"color:red;\">${err}</div>`;\n",
              "      throw err;\n",
              "    }\n",
              "\n",
              "    function displayChart(vegaEmbed) {\n",
              "      vegaEmbed(outputDiv, spec, embedOpt)\n",
              "        .catch(err => showError(`Javascript Error: ${err.message}<br>This usually means there's a typo in your chart specification. See the javascript console for the full traceback.`));\n",
              "    }\n",
              "\n",
              "    if(typeof define === \"function\" && define.amd) {\n",
              "      requirejs.config({paths});\n",
              "      require([\"vega-embed\"], displayChart, err => showError(`Error loading script: ${err.message}`));\n",
              "    } else if (typeof vegaEmbed === \"function\") {\n",
              "      displayChart(vegaEmbed);\n",
              "    } else {\n",
              "      loadScript(\"vega\")\n",
              "        .then(() => loadScript(\"vega-lite\"))\n",
              "        .then(() => loadScript(\"vega-embed\"))\n",
              "        .catch(showError)\n",
              "        .then(() => displayChart(vegaEmbed));\n",
              "    }\n",
              "  })({\"config\": {\"view\": {\"continuousWidth\": 400, \"continuousHeight\": 300}}, \"data\": {\"name\": \"data-eaa260fbee3281dae44eb8337cc0ecb8\"}, \"mark\": {\"type\": \"bar\", \"binSpacing\": 0, \"opacity\": 0.7}, \"encoding\": {\"color\": {\"type\": \"nominal\", \"field\": \"ground_truth\", \"legend\": {\"title\": \"Ground Truth Label\"}, \"scale\": {\"domain\": [\"True Link\", \"Not a Link\"], \"scheme\": \"tableau10\"}}, \"opacity\": {\"condition\": {\"value\": 0.7, \"selection\": \"selector001\"}, \"value\": 0.2}, \"tooltip\": [{\"type\": \"quantitative\", \"field\": \"model_score\", \"title\": \"Model Score\"}, {\"type\": \"nominal\", \"field\": \"ground_truth\", \"title\": \"Ground Truth\"}, {\"type\": \"quantitative\", \"field\": \"count\", \"title\": \"Count of Links\"}], \"x\": {\"type\": \"quantitative\", \"axis\": {\"tickCount\": 5, \"title\": \"Model Score (Binned)\"}, \"bin\": {\"extent\": [0, 1], \"step\": 0.01}, \"field\": \"model_score\"}, \"y\": {\"type\": \"quantitative\", \"axis\": {\"title\": \"Count of Links\"}, \"field\": \"count\", \"stack\": null}}, \"height\": 400, \"selection\": {\"selector001\": {\"type\": \"multi\", \"fields\": [\"ground_truth\"], \"bind\": \"legend\"}, \"selector002\": {\"type\": \"interval\", \"bind\": \"scales\", \"encodings\": [\"x\", \"y\"]}}, \"title\": \"Model Score Distribution\", \"width\": 800, \"$schema\": \"https://vega.github.io/schema/vega-lite/v4.8.1.json\", \"datasets\": {\"data-eaa260fbee3281dae44eb8337cc0ecb8\": [{\"model_score\": 0.0, \"ground_truth\": \"Not a Link\", \"count\": 27}, {\"model_score\": 0.0, \"ground_truth\": \"True Link\", \"count\": 1}, {\"model_score\": 0.01, \"ground_truth\": \"Not a Link\", \"count\": 38}, {\"model_score\": 0.01, \"ground_truth\": \"True Link\", \"count\": 1}, {\"model_score\": 0.02, \"ground_truth\": \"Not a Link\", \"count\": 15}, {\"model_score\": 0.02, \"ground_truth\": \"True Link\", \"count\": 1}, {\"model_score\": 0.03, \"ground_truth\": \"Not a Link\", \"count\": 13}, {\"model_score\": 0.03, \"ground_truth\": \"True Link\", \"count\": 2}, {\"model_score\": 0.04, \"ground_truth\": \"Not a Link\", \"count\": 8}, {\"model_score\": 0.04, \"ground_truth\": \"True Link\", \"count\": 7}, {\"model_score\": 0.05, \"ground_truth\": \"Not a Link\", \"count\": 5}, {\"model_score\": 0.06, \"ground_truth\": \"Not a Link\", \"count\": 9}, {\"model_score\": 0.06, \"ground_truth\": \"True Link\", \"count\": 1}, {\"model_score\": 0.07, \"ground_truth\": \"Not a Link\", \"count\": 2}, {\"model_score\": 0.07, \"ground_truth\": \"True Link\", \"count\": 6}, {\"model_score\": 0.08, \"ground_truth\": \"Not a Link\", \"count\": 3}, {\"model_score\": 0.08, \"ground_truth\": \"True Link\", \"count\": 1}, {\"model_score\": 0.09, \"ground_truth\": \"Not a Link\", \"count\": 3}, {\"model_score\": 0.09, \"ground_truth\": \"True Link\", \"count\": 1}, {\"model_score\": 0.1, \"ground_truth\": \"Not a Link\", \"count\": 1}, {\"model_score\": 0.1, \"ground_truth\": \"True Link\", \"count\": 2}, {\"model_score\": 0.11, \"ground_truth\": \"Not a Link\", \"count\": 6}, {\"model_score\": 0.11, \"ground_truth\": \"True Link\", \"count\": 3}, {\"model_score\": 0.12, \"ground_truth\": \"Not a Link\", \"count\": 4}, {\"model_score\": 0.12, \"ground_truth\": \"True Link\", \"count\": 5}, {\"model_score\": 0.13, \"ground_truth\": \"Not a Link\", \"count\": 3}, {\"model_score\": 0.13, \"ground_truth\": \"True Link\", \"count\": 4}, {\"model_score\": 0.14, \"ground_truth\": \"Not a Link\", \"count\": 1}, {\"model_score\": 0.14, \"ground_truth\": \"True Link\", \"count\": 2}, {\"model_score\": 0.15, \"ground_truth\": \"True Link\", \"count\": 3}, {\"model_score\": 0.16, \"ground_truth\": \"Not a Link\", \"count\": 1}, {\"model_score\": 0.17, \"ground_truth\": \"Not a Link\", \"count\": 1}, {\"model_score\": 0.17, \"ground_truth\": \"True Link\", \"count\": 3}, {\"model_score\": 0.18, \"ground_truth\": \"Not a Link\", \"count\": 3}, {\"model_score\": 0.18, \"ground_truth\": \"True Link\", \"count\": 2}, {\"model_score\": 0.19, \"ground_truth\": \"Not a Link\", \"count\": 3}, {\"model_score\": 0.19, \"ground_truth\": \"True Link\", \"count\": 9}, {\"model_score\": 0.2, \"ground_truth\": \"Not a Link\", \"count\": 1}, {\"model_score\": 0.2, \"ground_truth\": \"True Link\", \"count\": 5}, {\"model_score\": 0.21, \"ground_truth\": \"Not a Link\", \"count\": 5}, {\"model_score\": 0.21, \"ground_truth\": \"True Link\", \"count\": 7}, {\"model_score\": 0.22, \"ground_truth\": \"Not a Link\", \"count\": 1}, {\"model_score\": 0.22, \"ground_truth\": \"True Link\", \"count\": 9}, {\"model_score\": 0.23, \"ground_truth\": \"True Link\", \"count\": 9}, {\"model_score\": 0.24, \"ground_truth\": \"Not a Link\", \"count\": 1}, {\"model_score\": 0.24, \"ground_truth\": \"True Link\", \"count\": 11}, {\"model_score\": 0.25, \"ground_truth\": \"Not a Link\", \"count\": 2}, {\"model_score\": 0.25, \"ground_truth\": \"True Link\", \"count\": 8}, {\"model_score\": 0.26, \"ground_truth\": \"True Link\", \"count\": 7}, {\"model_score\": 0.27, \"ground_truth\": \"Not a Link\", \"count\": 3}, {\"model_score\": 0.27, \"ground_truth\": \"True Link\", \"count\": 11}, {\"model_score\": 0.28, \"ground_truth\": \"Not a Link\", \"count\": 1}, {\"model_score\": 0.28, \"ground_truth\": \"True Link\", \"count\": 9}, {\"model_score\": 0.29, \"ground_truth\": \"True Link\", \"count\": 14}, {\"model_score\": 0.3, \"ground_truth\": \"Not a Link\", \"count\": 3}, {\"model_score\": 0.3, \"ground_truth\": \"True Link\", \"count\": 10}, {\"model_score\": 0.31, \"ground_truth\": \"Not a Link\", \"count\": 2}, {\"model_score\": 0.31, \"ground_truth\": \"True Link\", \"count\": 5}, {\"model_score\": 0.32, \"ground_truth\": \"Not a Link\", \"count\": 1}, {\"model_score\": 0.32, \"ground_truth\": \"True Link\", \"count\": 11}, {\"model_score\": 0.33, \"ground_truth\": \"True Link\", \"count\": 11}, {\"model_score\": 0.34, \"ground_truth\": \"True Link\", \"count\": 13}, {\"model_score\": 0.35, \"ground_truth\": \"True Link\", \"count\": 22}, {\"model_score\": 0.36, \"ground_truth\": \"Not a Link\", \"count\": 1}, {\"model_score\": 0.36, \"ground_truth\": \"True Link\", \"count\": 14}, {\"model_score\": 0.37, \"ground_truth\": \"True Link\", \"count\": 21}, {\"model_score\": 0.38, \"ground_truth\": \"Not a Link\", \"count\": 3}, {\"model_score\": 0.38, \"ground_truth\": \"True Link\", \"count\": 21}, {\"model_score\": 0.39, \"ground_truth\": \"Not a Link\", \"count\": 3}, {\"model_score\": 0.39, \"ground_truth\": \"True Link\", \"count\": 22}, {\"model_score\": 0.4, \"ground_truth\": \"Not a Link\", \"count\": 3}, {\"model_score\": 0.4, \"ground_truth\": \"True Link\", \"count\": 16}, {\"model_score\": 0.41, \"ground_truth\": \"True Link\", \"count\": 13}, {\"model_score\": 0.42, \"ground_truth\": \"Not a Link\", \"count\": 2}, {\"model_score\": 0.42, \"ground_truth\": \"True Link\", \"count\": 10}, {\"model_score\": 0.43, \"ground_truth\": \"True Link\", \"count\": 15}, {\"model_score\": 0.44, \"ground_truth\": \"Not a Link\", \"count\": 1}, {\"model_score\": 0.44, \"ground_truth\": \"True Link\", \"count\": 19}, {\"model_score\": 0.45, \"ground_truth\": \"True Link\", \"count\": 25}, {\"model_score\": 0.46, \"ground_truth\": \"Not a Link\", \"count\": 2}, {\"model_score\": 0.46, \"ground_truth\": \"True Link\", \"count\": 13}, {\"model_score\": 0.47, \"ground_truth\": \"Not a Link\", \"count\": 2}, {\"model_score\": 0.47, \"ground_truth\": \"True Link\", \"count\": 13}, {\"model_score\": 0.48, \"ground_truth\": \"Not a Link\", \"count\": 1}, {\"model_score\": 0.48, \"ground_truth\": \"True Link\", \"count\": 19}, {\"model_score\": 0.49, \"ground_truth\": \"True Link\", \"count\": 21}, {\"model_score\": 0.5, \"ground_truth\": \"Not a Link\", \"count\": 3}, {\"model_score\": 0.5, \"ground_truth\": \"True Link\", \"count\": 21}, {\"model_score\": 0.51, \"ground_truth\": \"Not a Link\", \"count\": 1}, {\"model_score\": 0.51, \"ground_truth\": \"True Link\", \"count\": 11}, {\"model_score\": 0.52, \"ground_truth\": \"Not a Link\", \"count\": 2}, {\"model_score\": 0.52, \"ground_truth\": \"True Link\", \"count\": 17}, {\"model_score\": 0.53, \"ground_truth\": \"True Link\", \"count\": 9}, {\"model_score\": 0.54, \"ground_truth\": \"True Link\", \"count\": 25}, {\"model_score\": 0.55, \"ground_truth\": \"True Link\", \"count\": 15}, {\"model_score\": 0.56, \"ground_truth\": \"Not a Link\", \"count\": 1}, {\"model_score\": 0.56, \"ground_truth\": \"True Link\", \"count\": 16}, {\"model_score\": 0.57, \"ground_truth\": \"Not a Link\", \"count\": 2}, {\"model_score\": 0.57, \"ground_truth\": \"True Link\", \"count\": 14}, {\"model_score\": 0.58, \"ground_truth\": \"Not a Link\", \"count\": 1}, {\"model_score\": 0.58, \"ground_truth\": \"True Link\", \"count\": 21}, {\"model_score\": 0.59, \"ground_truth\": \"Not a Link\", \"count\": 1}, {\"model_score\": 0.59, \"ground_truth\": \"True Link\", \"count\": 15}, {\"model_score\": 0.6, \"ground_truth\": \"Not a Link\", \"count\": 1}, {\"model_score\": 0.6, \"ground_truth\": \"True Link\", \"count\": 13}, {\"model_score\": 0.61, \"ground_truth\": \"Not a Link\", \"count\": 1}, {\"model_score\": 0.61, \"ground_truth\": \"True Link\", \"count\": 10}, {\"model_score\": 0.62, \"ground_truth\": \"Not a Link\", \"count\": 1}, {\"model_score\": 0.62, \"ground_truth\": \"True Link\", \"count\": 20}, {\"model_score\": 0.63, \"ground_truth\": \"Not a Link\", \"count\": 2}, {\"model_score\": 0.63, \"ground_truth\": \"True Link\", \"count\": 21}, {\"model_score\": 0.64, \"ground_truth\": \"True Link\", \"count\": 17}, {\"model_score\": 0.65, \"ground_truth\": \"Not a Link\", \"count\": 2}, {\"model_score\": 0.65, \"ground_truth\": \"True Link\", \"count\": 19}, {\"model_score\": 0.66, \"ground_truth\": \"True Link\", \"count\": 14}, {\"model_score\": 0.67, \"ground_truth\": \"Not a Link\", \"count\": 1}, {\"model_score\": 0.67, \"ground_truth\": \"True Link\", \"count\": 6}, {\"model_score\": 0.68, \"ground_truth\": \"True Link\", \"count\": 20}, {\"model_score\": 0.69, \"ground_truth\": \"True Link\", \"count\": 19}, {\"model_score\": 0.7, \"ground_truth\": \"True Link\", \"count\": 9}, {\"model_score\": 0.71, \"ground_truth\": \"True Link\", \"count\": 7}, {\"model_score\": 0.72, \"ground_truth\": \"True Link\", \"count\": 21}, {\"model_score\": 0.73, \"ground_truth\": \"True Link\", \"count\": 9}, {\"model_score\": 0.74, \"ground_truth\": \"True Link\", \"count\": 9}, {\"model_score\": 0.75, \"ground_truth\": \"Not a Link\", \"count\": 1}, {\"model_score\": 0.75, \"ground_truth\": \"True Link\", \"count\": 9}, {\"model_score\": 0.76, \"ground_truth\": \"Not a Link\", \"count\": 1}, {\"model_score\": 0.76, \"ground_truth\": \"True Link\", \"count\": 12}, {\"model_score\": 0.77, \"ground_truth\": \"True Link\", \"count\": 9}, {\"model_score\": 0.78, \"ground_truth\": \"Not a Link\", \"count\": 1}, {\"model_score\": 0.78, \"ground_truth\": \"True Link\", \"count\": 11}, {\"model_score\": 0.79, \"ground_truth\": \"True Link\", \"count\": 5}, {\"model_score\": 0.8, \"ground_truth\": \"Not a Link\", \"count\": 10}, {\"model_score\": 0.8, \"ground_truth\": \"True Link\", \"count\": 8}, {\"model_score\": 0.81, \"ground_truth\": \"Not a Link\", \"count\": 1}, {\"model_score\": 0.81, \"ground_truth\": \"True Link\", \"count\": 7}, {\"model_score\": 0.82, \"ground_truth\": \"Not a Link\", \"count\": 2}, {\"model_score\": 0.82, \"ground_truth\": \"True Link\", \"count\": 5}, {\"model_score\": 0.83, \"ground_truth\": \"True Link\", \"count\": 9}, {\"model_score\": 0.84, \"ground_truth\": \"Not a Link\", \"count\": 3}, {\"model_score\": 0.84, \"ground_truth\": \"True Link\", \"count\": 8}, {\"model_score\": 0.85, \"ground_truth\": \"Not a Link\", \"count\": 1}, {\"model_score\": 0.85, \"ground_truth\": \"True Link\", \"count\": 5}, {\"model_score\": 0.86, \"ground_truth\": \"Not a Link\", \"count\": 1}, {\"model_score\": 0.86, \"ground_truth\": \"True Link\", \"count\": 8}, {\"model_score\": 0.87, \"ground_truth\": \"True Link\", \"count\": 4}, {\"model_score\": 0.88, \"ground_truth\": \"Not a Link\", \"count\": 1}, {\"model_score\": 0.88, \"ground_truth\": \"True Link\", \"count\": 4}, {\"model_score\": 0.89, \"ground_truth\": \"True Link\", \"count\": 2}, {\"model_score\": 0.9, \"ground_truth\": \"Not a Link\", \"count\": 2}, {\"model_score\": 0.9, \"ground_truth\": \"True Link\", \"count\": 4}, {\"model_score\": 0.91, \"ground_truth\": \"Not a Link\", \"count\": 2}, {\"model_score\": 0.91, \"ground_truth\": \"True Link\", \"count\": 4}, {\"model_score\": 0.93, \"ground_truth\": \"True Link\", \"count\": 4}, {\"model_score\": 0.94, \"ground_truth\": \"Not a Link\", \"count\": 1}, {\"model_score\": 0.94, \"ground_truth\": \"True Link\", \"count\": 4}, {\"model_score\": 0.95, \"ground_truth\": \"Not a Link\", \"count\": 1}, {\"model_score\": 0.95, \"ground_truth\": \"True Link\", \"count\": 1}, {\"model_score\": 0.96, \"ground_truth\": \"True Link\", \"count\": 2}, {\"model_score\": 0.97, \"ground_truth\": \"True Link\", \"count\": 3}, {\"model_score\": 0.98, \"ground_truth\": \"True Link\", \"count\": 4}, {\"model_score\": 0.99, \"ground_truth\": \"Not a Link\", \"count\": 7}, {\"model_score\": 0.99, \"ground_truth\": \"True Link\", \"count\": 7}, {\"model_score\": 1.0, \"ground_truth\": \"Not a Link\", \"count\": 1139}, {\"model_score\": 1.0, \"ground_truth\": \"True Link\", \"count\": 33}]}}, {\"mode\": \"vega-lite\"});\n",
              "</script>"
            ]
          },
          "metadata": {},
          "execution_count": 23
        }
      ],
      "source": [
        "tutorial.plot_model_score_distribution(df_predictions)"
      ]
    },
    {
      "cell_type": "markdown",
      "metadata": {
        "id": "hyA6LayK5yxn"
      },
      "source": [
        "### Precision and Recall vs. Model Score"
      ]
    },
    {
      "cell_type": "code",
      "execution_count": 24,
      "metadata": {
        "id": "SWt4fhWN5yxn"
      },
      "outputs": [],
      "source": [
        "df_eval = tutorial.evaluate_linking(\n",
        "    df=df_predictions\n",
        ")"
      ]
    },
    {
      "cell_type": "code",
      "execution_count": 25,
      "metadata": {
        "id": "AYbn4ZqB5yxn",
        "colab": {
          "base_uri": "https://localhost:8080/",
          "height": 206
        },
        "outputId": "84934152-3f51-468c-a292-9e69ac26e5d6"
      },
      "outputs": [
        {
          "output_type": "execute_result",
          "data": {
            "text/html": [
              "<div>\n",
              "<style scoped>\n",
              "    .dataframe tbody tr th:only-of-type {\n",
              "        vertical-align: middle;\n",
              "    }\n",
              "\n",
              "    .dataframe tbody tr th {\n",
              "        vertical-align: top;\n",
              "    }\n",
              "\n",
              "    .dataframe thead th {\n",
              "        text-align: right;\n",
              "    }\n",
              "</style>\n",
              "<table border=\"1\" class=\"dataframe\">\n",
              "  <thead>\n",
              "    <tr style=\"text-align: right;\">\n",
              "      <th></th>\n",
              "      <th>threshold</th>\n",
              "      <th>tp</th>\n",
              "      <th>fp</th>\n",
              "      <th>tn</th>\n",
              "      <th>fn</th>\n",
              "      <th>precision</th>\n",
              "      <th>recall</th>\n",
              "      <th>f1</th>\n",
              "    </tr>\n",
              "  </thead>\n",
              "  <tbody>\n",
              "    <tr>\n",
              "      <th>0</th>\n",
              "      <td>0.000000</td>\n",
              "      <td>1008</td>\n",
              "      <td>1377</td>\n",
              "      <td>0</td>\n",
              "      <td>0</td>\n",
              "      <td>0.422642</td>\n",
              "      <td>1.000000</td>\n",
              "      <td>0.594164</td>\n",
              "    </tr>\n",
              "    <tr>\n",
              "      <th>1</th>\n",
              "      <td>0.020408</td>\n",
              "      <td>1006</td>\n",
              "      <td>1304</td>\n",
              "      <td>73</td>\n",
              "      <td>2</td>\n",
              "      <td>0.435498</td>\n",
              "      <td>0.998016</td>\n",
              "      <td>0.606389</td>\n",
              "    </tr>\n",
              "    <tr>\n",
              "      <th>2</th>\n",
              "      <td>0.040816</td>\n",
              "      <td>998</td>\n",
              "      <td>1279</td>\n",
              "      <td>98</td>\n",
              "      <td>10</td>\n",
              "      <td>0.438296</td>\n",
              "      <td>0.990079</td>\n",
              "      <td>0.607610</td>\n",
              "    </tr>\n",
              "    <tr>\n",
              "      <th>3</th>\n",
              "      <td>0.061224</td>\n",
              "      <td>995</td>\n",
              "      <td>1267</td>\n",
              "      <td>110</td>\n",
              "      <td>13</td>\n",
              "      <td>0.439876</td>\n",
              "      <td>0.987103</td>\n",
              "      <td>0.608563</td>\n",
              "    </tr>\n",
              "    <tr>\n",
              "      <th>4</th>\n",
              "      <td>0.081633</td>\n",
              "      <td>989</td>\n",
              "      <td>1257</td>\n",
              "      <td>120</td>\n",
              "      <td>19</td>\n",
              "      <td>0.440338</td>\n",
              "      <td>0.981151</td>\n",
              "      <td>0.607867</td>\n",
              "    </tr>\n",
              "  </tbody>\n",
              "</table>\n",
              "</div>"
            ],
            "text/plain": [
              "   threshold    tp    fp   tn  fn  precision    recall        f1\n",
              "0   0.000000  1008  1377    0   0   0.422642  1.000000  0.594164\n",
              "1   0.020408  1006  1304   73   2   0.435498  0.998016  0.606389\n",
              "2   0.040816   998  1279   98  10   0.438296  0.990079  0.607610\n",
              "3   0.061224   995  1267  110  13   0.439876  0.987103  0.608563\n",
              "4   0.081633   989  1257  120  19   0.440338  0.981151  0.607867"
            ]
          },
          "metadata": {},
          "execution_count": 25
        }
      ],
      "source": [
        "df_eval.head()"
      ]
    },
    {
      "cell_type": "code",
      "execution_count": 26,
      "metadata": {
        "id": "BNq8eBDv5yxo",
        "colab": {
          "base_uri": "https://localhost:8080/",
          "height": 486
        },
        "outputId": "8d8bdbcc-b7c1-4778-b7f4-f8eca3dc4810"
      },
      "outputs": [
        {
          "output_type": "execute_result",
          "data": {
            "text/plain": [
              "alt.LayerChart(...)"
            ],
            "text/html": [
              "\n",
              "<div id=\"altair-viz-6b32abd0c22e4eea8c8abef9feaed090\"></div>\n",
              "<script type=\"text/javascript\">\n",
              "  (function(spec, embedOpt){\n",
              "    let outputDiv = document.currentScript.previousElementSibling;\n",
              "    if (outputDiv.id !== \"altair-viz-6b32abd0c22e4eea8c8abef9feaed090\") {\n",
              "      outputDiv = document.getElementById(\"altair-viz-6b32abd0c22e4eea8c8abef9feaed090\");\n",
              "    }\n",
              "    const paths = {\n",
              "      \"vega\": \"https://cdn.jsdelivr.net/npm//vega@5?noext\",\n",
              "      \"vega-lib\": \"https://cdn.jsdelivr.net/npm//vega-lib?noext\",\n",
              "      \"vega-lite\": \"https://cdn.jsdelivr.net/npm//vega-lite@4.8.1?noext\",\n",
              "      \"vega-embed\": \"https://cdn.jsdelivr.net/npm//vega-embed@6?noext\",\n",
              "    };\n",
              "\n",
              "    function loadScript(lib) {\n",
              "      return new Promise(function(resolve, reject) {\n",
              "        var s = document.createElement('script');\n",
              "        s.src = paths[lib];\n",
              "        s.async = true;\n",
              "        s.onload = () => resolve(paths[lib]);\n",
              "        s.onerror = () => reject(`Error loading script: ${paths[lib]}`);\n",
              "        document.getElementsByTagName(\"head\")[0].appendChild(s);\n",
              "      });\n",
              "    }\n",
              "\n",
              "    function showError(err) {\n",
              "      outputDiv.innerHTML = `<div class=\"error\" style=\"color:red;\">${err}</div>`;\n",
              "      throw err;\n",
              "    }\n",
              "\n",
              "    function displayChart(vegaEmbed) {\n",
              "      vegaEmbed(outputDiv, spec, embedOpt)\n",
              "        .catch(err => showError(`Javascript Error: ${err.message}<br>This usually means there's a typo in your chart specification. See the javascript console for the full traceback.`));\n",
              "    }\n",
              "\n",
              "    if(typeof define === \"function\" && define.amd) {\n",
              "      requirejs.config({paths});\n",
              "      require([\"vega-embed\"], displayChart, err => showError(`Error loading script: ${err.message}`));\n",
              "    } else if (typeof vegaEmbed === \"function\") {\n",
              "      displayChart(vegaEmbed);\n",
              "    } else {\n",
              "      loadScript(\"vega\")\n",
              "        .then(() => loadScript(\"vega-lite\"))\n",
              "        .then(() => loadScript(\"vega-embed\"))\n",
              "        .catch(showError)\n",
              "        .then(() => displayChart(vegaEmbed));\n",
              "    }\n",
              "  })({\"config\": {\"view\": {\"continuousWidth\": 400, \"continuousHeight\": 300}}, \"layer\": [{\"mark\": \"line\", \"encoding\": {\"color\": {\"type\": \"nominal\", \"field\": \"variable\", \"legend\": {\"title\": \"Variable\"}}, \"tooltip\": [{\"type\": \"nominal\", \"field\": \"variable\"}, {\"type\": \"quantitative\", \"field\": \"threshold\"}, {\"type\": \"quantitative\", \"field\": \"value\"}], \"x\": {\"type\": \"quantitative\", \"axis\": {\"title\": \"Model Threshold\"}, \"field\": \"threshold\"}, \"y\": {\"type\": \"quantitative\", \"axis\": {\"title\": \"Precision/Recall Value\"}, \"field\": \"value\", \"scale\": {\"domain\": [0, 1]}}}, \"selection\": {\"selector004\": {\"type\": \"interval\", \"bind\": \"scales\", \"encodings\": [\"x\", \"y\"]}}, \"title\": \"Precision and Recall v.s. Model Threshold\"}, {\"mark\": \"point\", \"encoding\": {\"opacity\": {\"value\": 0}, \"x\": {\"type\": \"quantitative\", \"field\": \"threshold\"}}, \"selection\": {\"selector003\": {\"type\": \"single\", \"nearest\": true, \"on\": \"mouseover\", \"fields\": [\"threshold\"], \"empty\": \"none\"}}}, {\"mark\": \"point\", \"encoding\": {\"color\": {\"type\": \"nominal\", \"field\": \"variable\", \"legend\": {\"title\": \"Variable\"}}, \"opacity\": {\"condition\": {\"value\": 1, \"selection\": \"selector003\"}, \"value\": 0}, \"tooltip\": [{\"type\": \"nominal\", \"field\": \"variable\"}, {\"type\": \"quantitative\", \"field\": \"threshold\"}, {\"type\": \"quantitative\", \"field\": \"value\"}], \"x\": {\"type\": \"quantitative\", \"axis\": {\"title\": \"Model Threshold\"}, \"field\": \"threshold\"}, \"y\": {\"type\": \"quantitative\", \"axis\": {\"title\": \"Precision/Recall Value\"}, \"field\": \"value\", \"scale\": {\"domain\": [0, 1]}}}, \"title\": \"Precision and Recall v.s. Model Threshold\"}, {\"mark\": {\"type\": \"rule\", \"color\": \"gray\"}, \"encoding\": {\"x\": {\"type\": \"quantitative\", \"field\": \"threshold\"}}, \"transform\": [{\"filter\": {\"selection\": \"selector003\"}}]}, {\"mark\": {\"type\": \"text\", \"align\": \"right\", \"dx\": -10, \"dy\": -5, \"fontWeight\": 300, \"lineBreak\": \"\\n\"}, \"encoding\": {\"color\": {\"type\": \"nominal\", \"field\": \"variable\", \"legend\": {\"title\": \"Variable\"}}, \"text\": {\"condition\": {\"type\": \"nominal\", \"field\": \"label\", \"selection\": \"selector003\"}, \"value\": \" \"}, \"tooltip\": [{\"type\": \"nominal\", \"field\": \"variable\"}, {\"type\": \"quantitative\", \"field\": \"threshold\"}, {\"type\": \"quantitative\", \"field\": \"value\"}], \"x\": {\"type\": \"quantitative\", \"axis\": {\"title\": \"Model Threshold\"}, \"field\": \"threshold\"}, \"y\": {\"type\": \"quantitative\", \"axis\": {\"title\": \"Precision/Recall Value\"}, \"field\": \"value\", \"scale\": {\"domain\": [0, 1]}}}, \"title\": \"Precision and Recall v.s. Model Threshold\"}], \"data\": {\"name\": \"data-3918a3f97179cddce24bcefa9a6d2975\"}, \"height\": 400, \"width\": 800, \"$schema\": \"https://vega.github.io/schema/vega-lite/v4.8.1.json\", \"datasets\": {\"data-3918a3f97179cddce24bcefa9a6d2975\": [{\"threshold\": 0.0, \"label\": \"threshold: 0.0\\nprecision: 0.423\\nrecall: 1.0\", \"variable\": \"recall\", \"value\": 1.0}, {\"threshold\": 0.02040816326530612, \"label\": \"threshold: 0.02\\nprecision: 0.435\\nrecall: 0.998\", \"variable\": \"recall\", \"value\": 0.998015873015873}, {\"threshold\": 0.04081632653061224, \"label\": \"threshold: 0.041\\nprecision: 0.438\\nrecall: 0.99\", \"variable\": \"recall\", \"value\": 0.9900793650793651}, {\"threshold\": 0.061224489795918366, \"label\": \"threshold: 0.061\\nprecision: 0.44\\nrecall: 0.987\", \"variable\": \"recall\", \"value\": 0.9871031746031746}, {\"threshold\": 0.08163265306122448, \"label\": \"threshold: 0.082\\nprecision: 0.44\\nrecall: 0.981\", \"variable\": \"recall\", \"value\": 0.9811507936507936}, {\"threshold\": 0.1020408163265306, \"label\": \"threshold: 0.102\\nprecision: 0.44\\nrecall: 0.978\", \"variable\": \"recall\", \"value\": 0.9781746031746031}, {\"threshold\": 0.12244897959183673, \"label\": \"threshold: 0.122\\nprecision: 0.44\\nrecall: 0.97\", \"variable\": \"recall\", \"value\": 0.9702380952380952}, {\"threshold\": 0.14285714285714285, \"label\": \"threshold: 0.143\\nprecision: 0.439\\nrecall: 0.963\", \"variable\": \"recall\", \"value\": 0.9632936507936508}, {\"threshold\": 0.16326530612244897, \"label\": \"threshold: 0.163\\nprecision: 0.439\\nrecall: 0.96\", \"variable\": \"recall\", \"value\": 0.9603174603174603}, {\"threshold\": 0.18367346938775508, \"label\": \"threshold: 0.184\\nprecision: 0.438\\nrecall: 0.956\", \"variable\": \"recall\", \"value\": 0.9563492063492064}, {\"threshold\": 0.2040816326530612, \"label\": \"threshold: 0.204\\nprecision: 0.435\\nrecall: 0.941\", \"variable\": \"recall\", \"value\": 0.941468253968254}, {\"threshold\": 0.22448979591836732, \"label\": \"threshold: 0.224\\nprecision: 0.433\\nrecall: 0.926\", \"variable\": \"recall\", \"value\": 0.9255952380952381}, {\"threshold\": 0.24489795918367346, \"label\": \"threshold: 0.245\\nprecision: 0.427\\nrecall: 0.906\", \"variable\": \"recall\", \"value\": 0.9057539682539683}, {\"threshold\": 0.26530612244897955, \"label\": \"threshold: 0.265\\nprecision: 0.424\\nrecall: 0.891\", \"variable\": \"recall\", \"value\": 0.8908730158730159}, {\"threshold\": 0.2857142857142857, \"label\": \"threshold: 0.286\\nprecision: 0.419\\nrecall: 0.87\", \"variable\": \"recall\", \"value\": 0.8700396825396826}, {\"threshold\": 0.3061224489795918, \"label\": \"threshold: 0.306\\nprecision: 0.413\\nrecall: 0.847\", \"variable\": \"recall\", \"value\": 0.8472222222222222}, {\"threshold\": 0.32653061224489793, \"label\": \"threshold: 0.327\\nprecision: 0.409\\nrecall: 0.831\", \"variable\": \"recall\", \"value\": 0.8313492063492064}, {\"threshold\": 0.3469387755102041, \"label\": \"threshold: 0.347\\nprecision: 0.401\\nrecall: 0.805\", \"variable\": \"recall\", \"value\": 0.8045634920634921}, {\"threshold\": 0.36734693877551017, \"label\": \"threshold: 0.367\\nprecision: 0.39\\nrecall: 0.768\", \"variable\": \"recall\", \"value\": 0.7678571428571429}, {\"threshold\": 0.3877551020408163, \"label\": \"threshold: 0.388\\nprecision: 0.378\\nrecall: 0.728\", \"variable\": \"recall\", \"value\": 0.7281746031746031}, {\"threshold\": 0.4081632653061224, \"label\": \"threshold: 0.408\\nprecision: 0.367\\nrecall: 0.691\", \"variable\": \"recall\", \"value\": 0.691468253968254}, {\"threshold\": 0.42857142857142855, \"label\": \"threshold: 0.429\\nprecision: 0.36\\nrecall: 0.67\", \"variable\": \"recall\", \"value\": 0.6696428571428571}, {\"threshold\": 0.44897959183673464, \"label\": \"threshold: 0.449\\nprecision: 0.347\\nrecall: 0.632\", \"variable\": \"recall\", \"value\": 0.6319444444444444}, {\"threshold\": 0.4693877551020408, \"label\": \"threshold: 0.469\\nprecision: 0.333\\nrecall: 0.592\", \"variable\": \"recall\", \"value\": 0.5922619047619048}, {\"threshold\": 0.4897959183673469, \"label\": \"threshold: 0.49\\nprecision: 0.322\\nrecall: 0.562\", \"variable\": \"recall\", \"value\": 0.5615079365079365}, {\"threshold\": 0.5102040816326531, \"label\": \"threshold: 0.51\\nprecision: 0.306\\nrecall: 0.521\", \"variable\": \"recall\", \"value\": 0.5208333333333334}, {\"threshold\": 0.5306122448979591, \"label\": \"threshold: 0.531\\nprecision: 0.295\\nrecall: 0.492\", \"variable\": \"recall\", \"value\": 0.49206349206349204}, {\"threshold\": 0.5510204081632653, \"label\": \"threshold: 0.551\\nprecision: 0.277\\nrecall: 0.451\", \"variable\": \"recall\", \"value\": 0.4513888888888889}, {\"threshold\": 0.5714285714285714, \"label\": \"threshold: 0.571\\nprecision: 0.264\\nrecall: 0.423\", \"variable\": \"recall\", \"value\": 0.4226190476190476}, {\"threshold\": 0.5918367346938775, \"label\": \"threshold: 0.592\\nprecision: 0.247\\nrecall: 0.385\", \"variable\": \"recall\", \"value\": 0.38492063492063494}, {\"threshold\": 0.6122448979591836, \"label\": \"threshold: 0.612\\nprecision: 0.236\\nrecall: 0.362\", \"variable\": \"recall\", \"value\": 0.3621031746031746}, {\"threshold\": 0.6326530612244897, \"label\": \"threshold: 0.633\\nprecision: 0.221\\nrecall: 0.331\", \"variable\": \"recall\", \"value\": 0.33134920634920634}, {\"threshold\": 0.6530612244897959, \"label\": \"threshold: 0.653\\nprecision: 0.198\\nrecall: 0.289\", \"variable\": \"recall\", \"value\": 0.28869047619047616}, {\"threshold\": 0.673469387755102, \"label\": \"threshold: 0.673\\nprecision: 0.185\\nrecall: 0.265\", \"variable\": \"recall\", \"value\": 0.2648809523809524}, {\"threshold\": 0.6938775510204082, \"label\": \"threshold: 0.694\\nprecision: 0.163\\nrecall: 0.226\", \"variable\": \"recall\", \"value\": 0.2261904761904762}, {\"threshold\": 0.7142857142857142, \"label\": \"threshold: 0.714\\nprecision: 0.153\\nrecall: 0.21\", \"variable\": \"recall\", \"value\": 0.21031746031746032}, {\"threshold\": 0.7346938775510203, \"label\": \"threshold: 0.735\\nprecision: 0.134\\nrecall: 0.18\", \"variable\": \"recall\", \"value\": 0.17956349206349206}, {\"threshold\": 0.7551020408163265, \"label\": \"threshold: 0.755\\nprecision: 0.122\\nrecall: 0.162\", \"variable\": \"recall\", \"value\": 0.16170634920634921}, {\"threshold\": 0.7755102040816326, \"label\": \"threshold: 0.776\\nprecision: 0.108\\nrecall: 0.141\", \"variable\": \"recall\", \"value\": 0.14087301587301587}, {\"threshold\": 0.7959183673469387, \"label\": \"threshold: 0.796\\nprecision: 0.096\\nrecall: 0.124\", \"variable\": \"recall\", \"value\": 0.12400793650793651}, {\"threshold\": 0.8163265306122448, \"label\": \"threshold: 0.816\\nprecision: 0.086\\nrecall: 0.108\", \"variable\": \"recall\", \"value\": 0.10813492063492064}, {\"threshold\": 0.836734693877551, \"label\": \"threshold: 0.837\\nprecision: 0.074\\nrecall: 0.092\", \"variable\": \"recall\", \"value\": 0.09226190476190477}, {\"threshold\": 0.8571428571428571, \"label\": \"threshold: 0.857\\nprecision: 0.065\\nrecall: 0.079\", \"variable\": \"recall\", \"value\": 0.07936507936507936}, {\"threshold\": 0.8775510204081632, \"label\": \"threshold: 0.878\\nprecision: 0.058\\nrecall: 0.07\", \"variable\": \"recall\", \"value\": 0.07043650793650794}, {\"threshold\": 0.8979591836734693, \"label\": \"threshold: 0.898\\nprecision: 0.052\\nrecall: 0.062\", \"variable\": \"recall\", \"value\": 0.0625}, {\"threshold\": 0.9183673469387754, \"label\": \"threshold: 0.918\\nprecision: 0.048\\nrecall: 0.058\", \"variable\": \"recall\", \"value\": 0.057539682539682536}, {\"threshold\": 0.9387755102040816, \"label\": \"threshold: 0.939\\nprecision: 0.043\\nrecall: 0.052\", \"variable\": \"recall\", \"value\": 0.051587301587301584}, {\"threshold\": 0.9591836734693877, \"label\": \"threshold: 0.959\\nprecision: 0.04\\nrecall: 0.048\", \"variable\": \"recall\", \"value\": 0.047619047619047616}, {\"threshold\": 0.9795918367346939, \"label\": \"threshold: 0.98\\nprecision: 0.035\\nrecall: 0.042\", \"variable\": \"recall\", \"value\": 0.041666666666666664}, {\"threshold\": 1.0, \"label\": \"threshold: 1.0\\nprecision: 0.023\\nrecall: 0.024\", \"variable\": \"recall\", \"value\": 0.023809523809523808}, {\"threshold\": 0.0, \"label\": \"threshold: 0.0\\nprecision: 0.423\\nrecall: 1.0\", \"variable\": \"precision\", \"value\": 0.4226415094339623}, {\"threshold\": 0.02040816326530612, \"label\": \"threshold: 0.02\\nprecision: 0.435\\nrecall: 0.998\", \"variable\": \"precision\", \"value\": 0.4354978354978355}, {\"threshold\": 0.04081632653061224, \"label\": \"threshold: 0.041\\nprecision: 0.438\\nrecall: 0.99\", \"variable\": \"precision\", \"value\": 0.4382960035133948}, {\"threshold\": 0.061224489795918366, \"label\": \"threshold: 0.061\\nprecision: 0.44\\nrecall: 0.987\", \"variable\": \"precision\", \"value\": 0.4398762157382847}, {\"threshold\": 0.08163265306122448, \"label\": \"threshold: 0.082\\nprecision: 0.44\\nrecall: 0.981\", \"variable\": \"precision\", \"value\": 0.44033837934105075}, {\"threshold\": 0.1020408163265306, \"label\": \"threshold: 0.102\\nprecision: 0.44\\nrecall: 0.978\", \"variable\": \"precision\", \"value\": 0.4401785714285714}, {\"threshold\": 0.12244897959183673, \"label\": \"threshold: 0.122\\nprecision: 0.44\\nrecall: 0.97\", \"variable\": \"precision\", \"value\": 0.44034218820351195}, {\"threshold\": 0.14285714285714285, \"label\": \"threshold: 0.143\\nprecision: 0.439\\nrecall: 0.963\", \"variable\": \"precision\", \"value\": 0.43936651583710407}, {\"threshold\": 0.16326530612244897, \"label\": \"threshold: 0.163\\nprecision: 0.439\\nrecall: 0.96\", \"variable\": \"precision\", \"value\": 0.43880326382592927}, {\"threshold\": 0.18367346938775508, \"label\": \"threshold: 0.184\\nprecision: 0.438\\nrecall: 0.956\", \"variable\": \"precision\", \"value\": 0.43838108231014095}, {\"threshold\": 0.2040816326530612, \"label\": \"threshold: 0.204\\nprecision: 0.435\\nrecall: 0.941\", \"variable\": \"precision\", \"value\": 0.4353211009174312}, {\"threshold\": 0.22448979591836732, \"label\": \"threshold: 0.224\\nprecision: 0.433\\nrecall: 0.926\", \"variable\": \"precision\", \"value\": 0.4325452016689847}, {\"threshold\": 0.24489795918367346, \"label\": \"threshold: 0.245\\nprecision: 0.427\\nrecall: 0.906\", \"variable\": \"precision\", \"value\": 0.42743445692883897}, {\"threshold\": 0.26530612244897955, \"label\": \"threshold: 0.265\\nprecision: 0.424\\nrecall: 0.891\", \"variable\": \"precision\", \"value\": 0.4237848041529023}, {\"threshold\": 0.2857142857142857, \"label\": \"threshold: 0.286\\nprecision: 0.419\\nrecall: 0.87\", \"variable\": \"precision\", \"value\": 0.41881566380133717}, {\"threshold\": 0.3061224489795918, \"label\": \"threshold: 0.306\\nprecision: 0.413\\nrecall: 0.847\", \"variable\": \"precision\", \"value\": 0.41295938104448743}, {\"threshold\": 0.32653061224489793, \"label\": \"threshold: 0.327\\nprecision: 0.409\\nrecall: 0.831\", \"variable\": \"precision\", \"value\": 0.40897999023914106}, {\"threshold\": 0.3469387755102041, \"label\": \"threshold: 0.347\\nprecision: 0.401\\nrecall: 0.805\", \"variable\": \"precision\", \"value\": 0.4010880316518299}, {\"threshold\": 0.36734693877551017, \"label\": \"threshold: 0.367\\nprecision: 0.39\\nrecall: 0.768\", \"variable\": \"precision\", \"value\": 0.3901209677419355}, {\"threshold\": 0.3877551020408163, \"label\": \"threshold: 0.388\\nprecision: 0.378\\nrecall: 0.728\", \"variable\": \"precision\", \"value\": 0.3781555899021123}, {\"threshold\": 0.4081632653061224, \"label\": \"threshold: 0.408\\nprecision: 0.367\\nrecall: 0.691\", \"variable\": \"precision\", \"value\": 0.3672286617492097}, {\"threshold\": 0.42857142857142855, \"label\": \"threshold: 0.429\\nprecision: 0.36\\nrecall: 0.67\", \"variable\": \"precision\", \"value\": 0.36019210245464245}, {\"threshold\": 0.44897959183673464, \"label\": \"threshold: 0.449\\nprecision: 0.347\\nrecall: 0.632\", \"variable\": \"precision\", \"value\": 0.3471389645776567}, {\"threshold\": 0.4693877551020408, \"label\": \"threshold: 0.469\\nprecision: 0.333\\nrecall: 0.592\", \"variable\": \"precision\", \"value\": 0.33314732142857145}, {\"threshold\": 0.4897959183673469, \"label\": \"threshold: 0.49\\nprecision: 0.322\\nrecall: 0.562\", \"variable\": \"precision\", \"value\": 0.32177373507674817}, {\"threshold\": 0.5102040816326531, \"label\": \"threshold: 0.51\\nprecision: 0.306\\nrecall: 0.521\", \"variable\": \"precision\", \"value\": 0.30612244897959184}, {\"threshold\": 0.5306122448979591, \"label\": \"threshold: 0.531\\nprecision: 0.295\\nrecall: 0.492\", \"variable\": \"precision\", \"value\": 0.2947118241235888}, {\"threshold\": 0.5510204081632653, \"label\": \"threshold: 0.551\\nprecision: 0.277\\nrecall: 0.451\", \"variable\": \"precision\", \"value\": 0.27710109622411694}, {\"threshold\": 0.5714285714285714, \"label\": \"threshold: 0.571\\nprecision: 0.264\\nrecall: 0.423\", \"variable\": \"precision\", \"value\": 0.2644320297951583}, {\"threshold\": 0.5918367346938775, \"label\": \"threshold: 0.592\\nprecision: 0.247\\nrecall: 0.385\", \"variable\": \"precision\", \"value\": 0.24713375796178344}, {\"threshold\": 0.6122448979591836, \"label\": \"threshold: 0.612\\nprecision: 0.236\\nrecall: 0.362\", \"variable\": \"precision\", \"value\": 0.23609314359637776}, {\"threshold\": 0.6326530612244897, \"label\": \"threshold: 0.633\\nprecision: 0.221\\nrecall: 0.331\", \"variable\": \"precision\", \"value\": 0.22104566512243548}, {\"threshold\": 0.6530612244897959, \"label\": \"threshold: 0.653\\nprecision: 0.198\\nrecall: 0.289\", \"variable\": \"precision\", \"value\": 0.1984993178717599}, {\"threshold\": 0.673469387755102, \"label\": \"threshold: 0.673\\nprecision: 0.185\\nrecall: 0.265\", \"variable\": \"precision\", \"value\": 0.18515950069348128}, {\"threshold\": 0.6938775510204082, \"label\": \"threshold: 0.694\\nprecision: 0.163\\nrecall: 0.226\", \"variable\": \"precision\", \"value\": 0.16262482168330955}, {\"threshold\": 0.7142857142857142, \"label\": \"threshold: 0.714\\nprecision: 0.153\\nrecall: 0.21\", \"variable\": \"precision\", \"value\": 0.15295815295815296}, {\"threshold\": 0.7346938775510203, \"label\": \"threshold: 0.735\\nprecision: 0.134\\nrecall: 0.18\", \"variable\": \"precision\", \"value\": 0.13357933579335793}, {\"threshold\": 0.7551020408163265, \"label\": \"threshold: 0.755\\nprecision: 0.122\\nrecall: 0.162\", \"variable\": \"precision\", \"value\": 0.1220059880239521}, {\"threshold\": 0.7755102040816326, \"label\": \"threshold: 0.776\\nprecision: 0.108\\nrecall: 0.141\", \"variable\": \"precision\", \"value\": 0.1080669710806697}, {\"threshold\": 0.7959183673469387, \"label\": \"threshold: 0.796\\nprecision: 0.096\\nrecall: 0.124\", \"variable\": \"precision\", \"value\": 0.09645061728395062}, {\"threshold\": 0.8163265306122448, \"label\": \"threshold: 0.816\\nprecision: 0.086\\nrecall: 0.108\", \"variable\": \"precision\", \"value\": 0.08602999210734018}, {\"threshold\": 0.836734693877551, \"label\": \"threshold: 0.837\\nprecision: 0.074\\nrecall: 0.092\", \"variable\": \"precision\", \"value\": 0.07434052757793765}, {\"threshold\": 0.8571428571428571, \"label\": \"threshold: 0.857\\nprecision: 0.065\\nrecall: 0.079\", \"variable\": \"precision\", \"value\": 0.06482982171799027}, {\"threshold\": 0.8775510204081632, \"label\": \"threshold: 0.878\\nprecision: 0.058\\nrecall: 0.07\", \"variable\": \"precision\", \"value\": 0.05800653594771242}, {\"threshold\": 0.8979591836734693, \"label\": \"threshold: 0.898\\nprecision: 0.052\\nrecall: 0.062\", \"variable\": \"precision\", \"value\": 0.05185185185185185}, {\"threshold\": 0.9183673469387754, \"label\": \"threshold: 0.918\\nprecision: 0.048\\nrecall: 0.058\", \"variable\": \"precision\", \"value\": 0.04809286898839138}, {\"threshold\": 0.9387755102040816, \"label\": \"threshold: 0.939\\nprecision: 0.043\\nrecall: 0.052\", \"variable\": \"precision\", \"value\": 0.043369474562135114}, {\"threshold\": 0.9591836734693877, \"label\": \"threshold: 0.959\\nprecision: 0.04\\nrecall: 0.048\", \"variable\": \"precision\", \"value\": 0.04020100502512563}, {\"threshold\": 0.9795918367346939, \"label\": \"threshold: 0.98\\nprecision: 0.035\\nrecall: 0.042\", \"variable\": \"precision\", \"value\": 0.03535353535353535}, {\"threshold\": 1.0, \"label\": \"threshold: 1.0\\nprecision: 0.023\\nrecall: 0.024\", \"variable\": \"precision\", \"value\": 0.02270577105014191}]}}, {\"mode\": \"vega-lite\"});\n",
              "</script>"
            ]
          },
          "metadata": {},
          "execution_count": 26
        }
      ],
      "source": [
        "tutorial.plot_precision_recall_vs_threshold(df_eval)"
      ]
    },
    {
      "cell_type": "markdown",
      "metadata": {
        "id": "yujre6AQ5yxo"
      },
      "source": [
        "## Iterating with Active Learning"
      ]
    },
    {
      "cell_type": "markdown",
      "metadata": {
        "id": "LkRVri1L5yxo"
      },
      "source": [
        "When using active learning, we iterate on our linking solution, and incorporate progressively more labeled training data. Perhaps we're not satisfied with the current performance of the blockers or classifier, and we'd like to create more labeled examples for dedupe to train on.\n",
        "\n",
        "Recall that earlier, we saved off our existing training data from the first labeling session. We can load this persisted data into a `dedupe` linker, and kick off another labeling session. Perhaps, after investigating the data during our first cycle, we don't think that dedupe should include `address_1` and `address2` in its comparators."
      ]
    },
    {
      "cell_type": "markdown",
      "metadata": {
        "id": "UtOx1xNV5yxp"
      },
      "source": [
        "### Tweak the Linker and Use Existing Training Data"
      ]
    },
    {
      "cell_type": "code",
      "execution_count": 27,
      "metadata": {
        "id": "1xy2ZdFb5yxp",
        "colab": {
          "base_uri": "https://localhost:8080/"
        },
        "outputId": "4ba68673-2331-4369-b85d-2b2d4b96c79d"
      },
      "outputs": [
        {
          "output_type": "stream",
          "name": "stderr",
          "text": [
            "INFO:dedupe.api:reading training from file\n",
            "INFO:dedupe.training:Final predicate set:\n",
            "INFO:dedupe.training:SimplePredicate: (wholeFieldPredicate, date_of_birth)\n",
            "INFO:dedupe.training:Final predicate set:\n",
            "INFO:dedupe.training:SimplePredicate: (wholeFieldPredicate, soc_sec_id)\n",
            "INFO:dedupe.training:SimplePredicate: (wholeFieldPredicate, date_of_birth)\n",
            "INFO:dedupe.training:SimplePredicate: (fingerprint, suburb)\n"
          ]
        },
        {
          "output_type": "stream",
          "name": "stdout",
          "text": [
            "CPU times: user 36.5 s, sys: 525 ms, total: 37.1 s\n",
            "Wall time: 36.6 s\n"
          ]
        }
      ],
      "source": [
        "%%time\n",
        "\n",
        "fields = [\n",
        "    { \"field\" : \"first_name\", \"type\" : \"Name\" },\n",
        "    { \"field\" : \"surname\", \"type\" : \"Name\" },\n",
        "    { \"field\" : \"suburb\", \"type\" : \"ShortString\" },\n",
        "    { \"field\" : \"postcode\", \"type\" : \"Exact\" },\n",
        "    { \"field\" : \"state\", \"type\" : \"Exact\" },\n",
        "    { \"field\" : \"date_of_birth\", \"type\" : \"DateTime\" },\n",
        "    { \"field\" : \"soc_sec_id\", \"type\" : \"Exact\" },\n",
        "]\n",
        "\n",
        "linker2 = dedupe.RecordLink(fields)\n",
        "\n",
        "with open(TRAINING_FILE, \"r\") as fh:\n",
        "    linker2.prepare_training(records_A, records_B, training_file=fh)"
      ]
    },
    {
      "cell_type": "markdown",
      "metadata": {
        "id": "HPoPLQp75yxp"
      },
      "source": [
        "Now, we can kick off a second active learning/labeling session."
      ]
    },
    {
      "cell_type": "code",
      "execution_count": 28,
      "metadata": {
        "id": "oVEpDEOH5yxq",
        "colab": {
          "base_uri": "https://localhost:8080/"
        },
        "outputId": "a9bbba6d-4fac-4064-af35-4c76cb9201d9"
      },
      "outputs": [
        {
          "output_type": "stream",
          "name": "stderr",
          "text": [
            "first_name : lachlan\n",
            "surname : exalto\n",
            "suburb : taree\n",
            "postcode : 3199\n",
            "state : nsw\n",
            "date_of_birth : 07/14/22\n",
            "soc_sec_id : 8570981\n",
            "\n",
            "first_name : kayden\n",
            "surname : bishop\n",
            "suburb : dianella\n",
            "postcode : 3730\n",
            "state : None\n",
            "date_of_birth : 07/22/22\n",
            "soc_sec_id : 2038603\n",
            "\n",
            "7/10 positive, 6/10 negative\n",
            "Do these records refer to the same thing?\n",
            "(y)es / (n)o / (u)nsure / (f)inished\n"
          ]
        },
        {
          "name": "stdout",
          "output_type": "stream",
          "text": [
            "y\n"
          ]
        },
        {
          "output_type": "stream",
          "name": "stderr",
          "text": [
            "first_name : patrick\n",
            "surname : laing\n",
            "suburb : flagstaff hill\n",
            "postcode : 2574\n",
            "state : nsw\n",
            "date_of_birth : 11/28/46\n",
            "soc_sec_id : 3966773\n",
            "\n",
            "first_name : cade\n",
            "surname : ulale\n",
            "suburb : goodna\n",
            "postcode : 3072\n",
            "state : None\n",
            "date_of_birth : 11/29/46\n",
            "soc_sec_id : 6482089\n",
            "\n",
            "8/10 positive, 6/10 negative\n",
            "Do these records refer to the same thing?\n",
            "(y)es / (n)o / (u)nsure / (f)inished / (p)revious\n"
          ]
        },
        {
          "name": "stdout",
          "output_type": "stream",
          "text": [
            "n\n"
          ]
        },
        {
          "output_type": "stream",
          "name": "stderr",
          "text": [
            "INFO:dedupe.training:Final predicate set:\n",
            "INFO:dedupe.training:SimplePredicate: (wholeFieldPredicate, soc_sec_id)\n",
            "INFO:dedupe.training:SimplePredicate: (monthPredicate, date_of_birth)\n",
            "INFO:dedupe.training:SimplePredicate: (fingerprint, suburb)\n",
            "first_name : lukas\n",
            "surname : le lievre\n",
            "suburb : sadleir\n",
            "postcode : 3169\n",
            "state : nsw\n",
            "date_of_birth : None\n",
            "soc_sec_id : 8477822\n",
            "\n",
            "first_name : melni\n",
            "surname : crouch\n",
            "suburb : burleigh waters\n",
            "postcode : 2204\n",
            "state : vic\n",
            "date_of_birth : 04/23/44\n",
            "soc_sec_id : 1291160\n",
            "\n",
            "8/10 positive, 7/10 negative\n",
            "Do these records refer to the same thing?\n",
            "(y)es / (n)o / (u)nsure / (f)inished / (p)revious\n"
          ]
        },
        {
          "name": "stdout",
          "output_type": "stream",
          "text": [
            "u\n"
          ]
        },
        {
          "output_type": "stream",
          "name": "stderr",
          "text": [
            "first_name : brody\n",
            "surname : widdowson\n",
            "suburb : katandra west\n",
            "postcode : 3135\n",
            "state : vic\n",
            "date_of_birth : 06/05/60\n",
            "soc_sec_id : 4290634\n",
            "\n",
            "first_name : stadtmiller\n",
            "surname : nan\n",
            "suburb : None\n",
            "postcode : 2132\n",
            "state : wa\n",
            "date_of_birth : 12/18/70\n",
            "soc_sec_id : 3197490\n",
            "\n",
            "8/10 positive, 7/10 negative\n",
            "Do these records refer to the same thing?\n",
            "(y)es / (n)o / (u)nsure / (f)inished / (p)revious\n"
          ]
        },
        {
          "name": "stdout",
          "output_type": "stream",
          "text": [
            "y\n"
          ]
        },
        {
          "output_type": "stream",
          "name": "stderr",
          "text": [
            "first_name : giaan\n",
            "surname : david\n",
            "suburb : elizabeth vale\n",
            "postcode : 3156\n",
            "state : nsw\n",
            "date_of_birth : 05/17/37\n",
            "soc_sec_id : 3587379\n",
            "\n",
            "first_name : harrizon\n",
            "surname : oatey\n",
            "suburb : None\n",
            "postcode : 2323\n",
            "state : ns\n",
            "date_of_birth : 05/25/42\n",
            "soc_sec_id : 3932970\n",
            "\n",
            "9/10 positive, 7/10 negative\n",
            "Do these records refer to the same thing?\n",
            "(y)es / (n)o / (u)nsure / (f)inished / (p)revious\n"
          ]
        },
        {
          "name": "stdout",
          "output_type": "stream",
          "text": [
            "y\n"
          ]
        },
        {
          "output_type": "stream",
          "name": "stderr",
          "text": [
            "INFO:dedupe.training:Final predicate set:\n",
            "INFO:dedupe.training:PartialIndexLevenshteinSearchPredicate: (1, surname, CorporationName)\n",
            "INFO:dedupe.training:SimplePredicate: (monthPredicate, date_of_birth)\n",
            "first_name : cain\n",
            "surname : inall\n",
            "suburb : goodna\n",
            "postcode : 2650\n",
            "state : vic\n",
            "date_of_birth : 12/08/24\n",
            "soc_sec_id : 8473822\n",
            "\n",
            "first_name : cade\n",
            "surname : ulale\n",
            "suburb : goodna\n",
            "postcode : 3072\n",
            "state : None\n",
            "date_of_birth : 11/29/46\n",
            "soc_sec_id : 6482089\n",
            "\n",
            "10/10 positive, 7/10 negative\n",
            "Do these records refer to the same thing?\n",
            "(y)es / (n)o / (u)nsure / (f)inished / (p)revious\n"
          ]
        },
        {
          "name": "stdout",
          "output_type": "stream",
          "text": [
            "n\n"
          ]
        },
        {
          "output_type": "stream",
          "name": "stderr",
          "text": [
            "first_name : hanna\n",
            "surname : gibb\n",
            "suburb : bayswater\n",
            "postcode : 2118\n",
            "state : vic\n",
            "date_of_birth : 06/15/56\n",
            "soc_sec_id : 3746797\n",
            "\n",
            "first_name : etqy\n",
            "surname : blowes\n",
            "suburb : bayswater north\n",
            "postcode : 3261\n",
            "state : qsd\n",
            "date_of_birth : 06/09/92\n",
            "soc_sec_id : 7096224\n",
            "\n",
            "10/10 positive, 8/10 negative\n",
            "Do these records refer to the same thing?\n",
            "(y)es / (n)o / (u)nsure / (f)inished / (p)revious\n"
          ]
        },
        {
          "name": "stdout",
          "output_type": "stream",
          "text": [
            "u\n"
          ]
        },
        {
          "output_type": "stream",
          "name": "stderr",
          "text": [
            "first_name : lynton\n",
            "surname : matthews\n",
            "suburb : patterson lakes\n",
            "postcode : 4404\n",
            "state : None\n",
            "date_of_birth : 02/10/56\n",
            "soc_sec_id : 3856928\n",
            "\n",
            "first_name : lynton\n",
            "surname : matthewws\n",
            "suburb : patterson lakes\n",
            "postcode : 4408\n",
            "state : None\n",
            "date_of_birth : None\n",
            "soc_sec_id : 3856928\n",
            "\n",
            "10/10 positive, 8/10 negative\n",
            "Do these records refer to the same thing?\n",
            "(y)es / (n)o / (u)nsure / (f)inished / (p)revious\n"
          ]
        },
        {
          "name": "stdout",
          "output_type": "stream",
          "text": [
            "p\n"
          ]
        },
        {
          "output_type": "stream",
          "name": "stderr",
          "text": [
            "first_name : hanna\n",
            "surname : gibb\n",
            "suburb : bayswater\n",
            "postcode : 2118\n",
            "state : vic\n",
            "date_of_birth : 06/15/56\n",
            "soc_sec_id : 3746797\n",
            "\n",
            "first_name : etqy\n",
            "surname : blowes\n",
            "suburb : bayswater north\n",
            "postcode : 3261\n",
            "state : qsd\n",
            "date_of_birth : 06/09/92\n",
            "soc_sec_id : 7096224\n",
            "\n",
            "10/10 positive, 8/10 negative\n",
            "Do these records refer to the same thing?\n",
            "(y)es / (n)o / (u)nsure / (f)inished\n"
          ]
        },
        {
          "name": "stdout",
          "output_type": "stream",
          "text": [
            "p\n"
          ]
        },
        {
          "output_type": "stream",
          "name": "stderr",
          "text": [
            "(y)es / (n)o / (u)nsure / (f)inished\n"
          ]
        },
        {
          "name": "stdout",
          "output_type": "stream",
          "text": [
            "y\n"
          ]
        },
        {
          "output_type": "stream",
          "name": "stderr",
          "text": [
            "first_name : lynton\n",
            "surname : matthews\n",
            "suburb : patterson lakes\n",
            "postcode : 4404\n",
            "state : None\n",
            "date_of_birth : 02/10/56\n",
            "soc_sec_id : 3856928\n",
            "\n",
            "first_name : lynton\n",
            "surname : matthewws\n",
            "suburb : patterson lakes\n",
            "postcode : 4408\n",
            "state : None\n",
            "date_of_birth : None\n",
            "soc_sec_id : 3856928\n",
            "\n",
            "11/10 positive, 8/10 negative\n",
            "Do these records refer to the same thing?\n",
            "(y)es / (n)o / (u)nsure / (f)inished / (p)revious\n"
          ]
        },
        {
          "name": "stdout",
          "output_type": "stream",
          "text": [
            "n\n"
          ]
        },
        {
          "output_type": "stream",
          "name": "stderr",
          "text": [
            "INFO:dedupe.training:Final predicate set:\n",
            "INFO:dedupe.training:PartialIndexLevenshteinSearchPredicate: (1, surname, CorporationName)\n",
            "INFO:dedupe.training:SimplePredicate: (monthPredicate, date_of_birth)\n",
            "INFO:dedupe.training:SimplePredicate: (sameSevenCharStartPredicate, suburb)\n",
            "first_name : joel\n",
            "surname : lowe\n",
            "suburb : None\n",
            "postcode : 2429\n",
            "state : nsw\n",
            "date_of_birth : 12/29/18\n",
            "soc_sec_id : 8931185\n",
            "\n",
            "first_name : daniel\n",
            "surname : tinhg\n",
            "suburb : brunswick west\n",
            "postcode : 4562\n",
            "state : sa\n",
            "date_of_birth : 12/04/70\n",
            "soc_sec_id : 6662264\n",
            "\n",
            "11/10 positive, 9/10 negative\n",
            "Do these records refer to the same thing?\n",
            "(y)es / (n)o / (u)nsure / (f)inished / (p)revious\n"
          ]
        },
        {
          "name": "stdout",
          "output_type": "stream",
          "text": [
            "f\n"
          ]
        },
        {
          "output_type": "stream",
          "name": "stderr",
          "text": [
            "Finished labeling\n"
          ]
        }
      ],
      "source": [
        "dedupe.console_label(linker2)"
      ]
    },
    {
      "cell_type": "markdown",
      "metadata": {
        "id": "jbNryHoH5yxq"
      },
      "source": [
        "### Retrain the Linker and Examine Blocking Performance"
      ]
    },
    {
      "cell_type": "markdown",
      "metadata": {
        "id": "yyrOFats5yxq"
      },
      "source": [
        "Now, let's retrain, and examine blocker performance. Ideally, we see an improved true link retention following our second labeling session."
      ]
    },
    {
      "cell_type": "code",
      "execution_count": 29,
      "metadata": {
        "id": "RbdfU5Pr5yxr",
        "colab": {
          "base_uri": "https://localhost:8080/"
        },
        "outputId": "bbba41a1-ec01-47df-981c-c40e05a7638b"
      },
      "outputs": [
        {
          "output_type": "stream",
          "name": "stderr",
          "text": [
            "INFO:rlr.crossvalidation:using cross validation to find optimum alpha...\n",
            "/usr/local/lib/python3.7/dist-packages/rlr/lr.py:47: RuntimeWarning: overflow encountered in exp\n",
            "  scores = np.exp(scores + self.bias) / (1 + np.exp(scores + self.bias))\n",
            "/usr/local/lib/python3.7/dist-packages/rlr/lr.py:47: RuntimeWarning: invalid value encountered in true_divide\n",
            "  scores = np.exp(scores + self.bias) / (1 + np.exp(scores + self.bias))\n",
            "INFO:rlr.crossvalidation:optimum alpha: 0.000010, score -0.04363034122413712\n",
            "INFO:dedupe.training:Final predicate set:\n"
          ]
        },
        {
          "output_type": "stream",
          "name": "stdout",
          "text": [
            "CPU times: user 14.5 s, sys: 2.88 s, total: 17.4 s\n",
            "Wall time: 14 s\n"
          ]
        }
      ],
      "source": [
        "%%time\n",
        "linker2.train()"
      ]
    },
    {
      "cell_type": "code",
      "execution_count": null,
      "metadata": {
        "id": "oxxSVsDf5yxr"
      },
      "outputs": [],
      "source": [
        "candidate_pairs = [x for x in linker2.pairs(records_A, records_B)]\n",
        "print(f\"{len(candidate_pairs):,} candidate pairs generated from blocking.\")\n",
        "\n",
        "df_candidate_links = pd.DataFrame(\n",
        "    [(x[0][0], x[1][0]) for x in candidate_pairs]\n",
        ").rename(columns={0 : \"person_id_A\", 1 : \"person_id_B\"}).set_index([\"person_id_A\", \"person_id_B\"])\n",
        "\n",
        "max_candidate_pairs = df_A.shape[0]*df_B.shape[0]\n",
        "\n",
        "print(f\"{max_candidate_pairs:,} total possible pairs.\")\n",
        "\n",
        "# Calculate search space reduction.\n",
        "search_space_reduction = round(1 - len(candidate_pairs)/max_candidate_pairs, 6)\n",
        "print(f\"\\n{len(candidate_pairs):,} pairs after full blocking: {search_space_reduction}% search space reduction.\")\n",
        "\n",
        "# Calculate retained true links percentage.\n",
        "total_true_links = df_ground_truth.shape[0]\n",
        "true_links_after_blocking = pd.merge(\n",
        "    df_ground_truth,\n",
        "    df_candidate_links,\n",
        "    left_index=True,\n",
        "    right_index=True,\n",
        "    how=\"inner\"\n",
        ").shape[0]\n",
        "\n",
        "retained_true_link_percent = round((true_links_after_blocking/total_true_links) * 100, 2)\n",
        "print(f\"{retained_true_link_percent}% true links retained after blocking.\")"
      ]
    },
    {
      "cell_type": "markdown",
      "metadata": {
        "id": "qIBGftdd5yxs"
      },
      "source": [
        "### Evaluate Classification Performance"
      ]
    },
    {
      "cell_type": "code",
      "execution_count": null,
      "metadata": {
        "id": "zhLtBec25yxs"
      },
      "outputs": [],
      "source": [
        "%%time\n",
        "linked_records = linker2.join(records_A, records_B, threshold=0.0, constraint=\"one-to-one\")"
      ]
    },
    {
      "cell_type": "code",
      "execution_count": null,
      "metadata": {
        "id": "-ShhCC3f5yxs"
      },
      "outputs": [],
      "source": [
        "df_predictions = pd.DataFrame(\n",
        "    [ {\"person_id_A\" : x[0][0], \"person_id_B\" : x[0][1], \"model_score\" : x[1]} for x in linked_records]\n",
        ")\n",
        "\n",
        "df_predictions = df_predictions.set_index([\"person_id_A\", \"person_id_B\"])\n",
        "\n",
        "df_predictions = pd.merge(\n",
        "    df_predictions,\n",
        "    df_ground_truth,\n",
        "    left_index=True,\n",
        "    right_index=True,\n",
        "    how=\"left\",\n",
        ")\n",
        "\n",
        "df_predictions[\"ground_truth\"].fillna(False, inplace=True)\n",
        "df_predictions"
      ]
    },
    {
      "cell_type": "code",
      "execution_count": null,
      "metadata": {
        "id": "hdbsrByp5yxs"
      },
      "outputs": [],
      "source": [
        "df_predictions[\"ground_truth\"].value_counts()"
      ]
    },
    {
      "cell_type": "code",
      "execution_count": null,
      "metadata": {
        "id": "wV9DR5PI5yxt"
      },
      "outputs": [],
      "source": [
        "tutorial.plot_model_score_distribution(df_predictions)"
      ]
    },
    {
      "cell_type": "code",
      "execution_count": null,
      "metadata": {
        "id": "c2CcEgRY5yxt"
      },
      "outputs": [],
      "source": [
        "df_eval = tutorial.evaluate_linking(\n",
        "    df=df_predictions\n",
        ")\n",
        "\n",
        "tutorial.plot_precision_recall_vs_threshold(df_eval)"
      ]
    }
  ],
  "metadata": {
    "kernelspec": {
      "display_name": "linking",
      "language": "python",
      "name": "linking"
    },
    "language_info": {
      "codemirror_mode": {
        "name": "ipython",
        "version": 3
      },
      "file_extension": ".py",
      "mimetype": "text/x-python",
      "name": "python",
      "nbconvert_exporter": "python",
      "pygments_lexer": "ipython3",
      "version": "3.8.6"
    },
    "colab": {
      "name": "activeLearning_end2end.ipynb",
      "provenance": [],
      "include_colab_link": true
    }
  },
  "nbformat": 4,
  "nbformat_minor": 0
}